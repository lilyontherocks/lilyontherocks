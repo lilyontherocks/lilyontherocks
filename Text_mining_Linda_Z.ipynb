{
  "nbformat": 4,
  "nbformat_minor": 0,
  "metadata": {
    "colab": {
      "provenance": [],
      "collapsed_sections": [
        "8wVHSl7heTkZ",
        "hsdpCpGzeYMw",
        "-BBQVbAleCDB",
        "rhsPq8tjdjDp"
      ],
      "toc_visible": true
    },
    "kernelspec": {
      "name": "python3",
      "display_name": "Python 3"
    },
    "language_info": {
      "name": "python"
    }
  },
  "cells": [
    {
      "cell_type": "markdown",
      "source": [
        "# Import required modules"
      ],
      "metadata": {
        "id": "8wVHSl7heTkZ"
      }
    },
    {
      "cell_type": "code",
      "source": [
        "import pandas as pd\n",
        "from collections import Counter\n",
        "import string\n",
        "import matplotlib.pyplot as plt\n",
        "import seaborn as sns\n",
        "from sklearn.metrics import confusion_matrix\n",
        "import numpy as np\n",
        "from scipy.io import arff\n",
        "import os\n",
        "import io\n",
        "from google.colab import drive\n",
        "from sklearn.feature_extraction.text import CountVectorizer\n",
        "import nltk\n",
        "from nltk.corpus import stopwords\n",
        "from sklearn.feature_extraction.text import CountVectorizer, TfidfTransformer\n",
        "from sklearn.tree import DecisionTreeClassifier\n",
        "from sklearn.model_selection import GridSearchCV,train_test_split,StratifiedKFold,cross_val_score,learning_curve\n",
        "from sklearn.feature_extraction.text import TfidfVectorizer\n",
        "from sklearn.linear_model import LogisticRegression\n",
        "from sklearn.svm import SVC\n",
        "from sklearn.naive_bayes import MultinomialNB\n",
        "from sklearn.tree import DecisionTreeClassifier\n",
        "from sklearn.neighbors import KNeighborsClassifier\n",
        "from sklearn.ensemble import RandomForestClassifier\n",
        "from sklearn.metrics import accuracy_score\n",
        "from sklearn.metrics import f1_score"
      ],
      "metadata": {
        "id": "5u6yrkAscva2"
      },
      "execution_count": null,
      "outputs": []
    },
    {
      "cell_type": "markdown",
      "source": [
        "# Load data set"
      ],
      "metadata": {
        "id": "hsdpCpGzeYMw"
      }
    },
    {
      "cell_type": "code",
      "source": [
        "from google.colab import drive\n",
        "drive.mount('/content/drive')\n",
        "data = pd.read_csv('/content/drive/My Drive/TextCollection_sms.csv', sep=\"|\", error_bad_lines=False, encoding='latin-1') #for this i saved the file on my google drive #added: encoding='latin-1')\n",
        "data['Message']=data['Message'].astype(str)\n",
        "data = data.dropna()\n",
        "data"
      ],
      "metadata": {
        "colab": {
          "base_uri": "https://localhost:8080/",
          "height": 848
        },
        "id": "n0xCrdVWb4No",
        "outputId": "fb2b42f9-29c5-4513-d88d-8146ea9ca632"
      },
      "execution_count": null,
      "outputs": [
        {
          "output_type": "stream",
          "name": "stdout",
          "text": [
            "Mounted at /content/drive\n"
          ]
        },
        {
          "output_type": "stream",
          "name": "stderr",
          "text": [
            "<ipython-input-2-39a5130f69d7>:3: FutureWarning: The error_bad_lines argument has been deprecated and will be removed in a future version. Use on_bad_lines in the future.\n",
            "\n",
            "\n",
            "  data = pd.read_csv('/content/drive/My Drive/TextCollection_sms.csv', sep=\"|\", error_bad_lines=False, encoding='latin-1') #for this i saved the file on my google drive #added: encoding='latin-1')\n",
            "Skipping line 194: expected 3 fields, saw 4\n",
            "Skipping line 510: expected 3 fields, saw 4\n",
            "Skipping line 1721: expected 3 fields, saw 4\n",
            "Skipping line 1848: expected 3 fields, saw 10\n",
            "Skipping line 2160: expected 3 fields, saw 7\n",
            "Skipping line 2599: expected 3 fields, saw 9\n",
            "Skipping line 2792: expected 3 fields, saw 4\n",
            "Skipping line 2851: expected 3 fields, saw 7\n",
            "Skipping line 3213: expected 3 fields, saw 4\n",
            "Skipping line 3326: expected 3 fields, saw 4\n",
            "Skipping line 3452: expected 3 fields, saw 7\n",
            "Skipping line 3568: expected 3 fields, saw 4\n",
            "Skipping line 4470: expected 3 fields, saw 4\n",
            "Skipping line 4827: expected 3 fields, saw 9\n",
            "Skipping line 4911: expected 3 fields, saw 4\n",
            "Skipping line 5488: expected 3 fields, saw 10\n",
            "\n"
          ]
        },
        {
          "output_type": "execute_result",
          "data": {
            "text/plain": [
              "        id                                            Message  Class\n",
              "0        1  Go until jurong point,crazy.. Available only i...    0.0\n",
              "1        2                      Ok lar... Joking wif u oni...    0.0\n",
              "2        3  Free entry in 2 a wkly comp to win FA Cup fina...    1.0\n",
              "3        4  U dun say so early hor... U c already then say...    0.0\n",
              "4        5  Nah I don\\''t think he goes to usf,he lives ar...    0.0\n",
              "...    ...                                                ...    ...\n",
              "5554  5571            Will ÃÂ¼ b going to esplanade fr home?    0.0\n",
              "5555  5572  Pity,* was in mood for that. So...any other su...    0.0\n",
              "5556  5573  The guy did some bitching but I acted like i\\'...    0.0\n",
              "5557  5574                         Rofl. Its true to its name    0.0\n",
              "5558  5575                                        Hello world    0.0\n",
              "\n",
              "[5513 rows x 3 columns]"
            ],
            "text/html": [
              "\n",
              "  <div id=\"df-cf0939b4-8709-4f84-a33f-6684918df9d4\" class=\"colab-df-container\">\n",
              "    <div>\n",
              "<style scoped>\n",
              "    .dataframe tbody tr th:only-of-type {\n",
              "        vertical-align: middle;\n",
              "    }\n",
              "\n",
              "    .dataframe tbody tr th {\n",
              "        vertical-align: top;\n",
              "    }\n",
              "\n",
              "    .dataframe thead th {\n",
              "        text-align: right;\n",
              "    }\n",
              "</style>\n",
              "<table border=\"1\" class=\"dataframe\">\n",
              "  <thead>\n",
              "    <tr style=\"text-align: right;\">\n",
              "      <th></th>\n",
              "      <th>id</th>\n",
              "      <th>Message</th>\n",
              "      <th>Class</th>\n",
              "    </tr>\n",
              "  </thead>\n",
              "  <tbody>\n",
              "    <tr>\n",
              "      <th>0</th>\n",
              "      <td>1</td>\n",
              "      <td>Go until jurong point,crazy.. Available only i...</td>\n",
              "      <td>0.0</td>\n",
              "    </tr>\n",
              "    <tr>\n",
              "      <th>1</th>\n",
              "      <td>2</td>\n",
              "      <td>Ok lar... Joking wif u oni...</td>\n",
              "      <td>0.0</td>\n",
              "    </tr>\n",
              "    <tr>\n",
              "      <th>2</th>\n",
              "      <td>3</td>\n",
              "      <td>Free entry in 2 a wkly comp to win FA Cup fina...</td>\n",
              "      <td>1.0</td>\n",
              "    </tr>\n",
              "    <tr>\n",
              "      <th>3</th>\n",
              "      <td>4</td>\n",
              "      <td>U dun say so early hor... U c already then say...</td>\n",
              "      <td>0.0</td>\n",
              "    </tr>\n",
              "    <tr>\n",
              "      <th>4</th>\n",
              "      <td>5</td>\n",
              "      <td>Nah I don\\''t think he goes to usf,he lives ar...</td>\n",
              "      <td>0.0</td>\n",
              "    </tr>\n",
              "    <tr>\n",
              "      <th>...</th>\n",
              "      <td>...</td>\n",
              "      <td>...</td>\n",
              "      <td>...</td>\n",
              "    </tr>\n",
              "    <tr>\n",
              "      <th>5554</th>\n",
              "      <td>5571</td>\n",
              "      <td>Will ÃÂ¼ b going to esplanade fr home?</td>\n",
              "      <td>0.0</td>\n",
              "    </tr>\n",
              "    <tr>\n",
              "      <th>5555</th>\n",
              "      <td>5572</td>\n",
              "      <td>Pity,* was in mood for that. So...any other su...</td>\n",
              "      <td>0.0</td>\n",
              "    </tr>\n",
              "    <tr>\n",
              "      <th>5556</th>\n",
              "      <td>5573</td>\n",
              "      <td>The guy did some bitching but I acted like i\\'...</td>\n",
              "      <td>0.0</td>\n",
              "    </tr>\n",
              "    <tr>\n",
              "      <th>5557</th>\n",
              "      <td>5574</td>\n",
              "      <td>Rofl. Its true to its name</td>\n",
              "      <td>0.0</td>\n",
              "    </tr>\n",
              "    <tr>\n",
              "      <th>5558</th>\n",
              "      <td>5575</td>\n",
              "      <td>Hello world</td>\n",
              "      <td>0.0</td>\n",
              "    </tr>\n",
              "  </tbody>\n",
              "</table>\n",
              "<p>5513 rows × 3 columns</p>\n",
              "</div>\n",
              "    <div class=\"colab-df-buttons\">\n",
              "\n",
              "  <div class=\"colab-df-container\">\n",
              "    <button class=\"colab-df-convert\" onclick=\"convertToInteractive('df-cf0939b4-8709-4f84-a33f-6684918df9d4')\"\n",
              "            title=\"Convert this dataframe to an interactive table.\"\n",
              "            style=\"display:none;\">\n",
              "\n",
              "  <svg xmlns=\"http://www.w3.org/2000/svg\" height=\"24px\" viewBox=\"0 -960 960 960\">\n",
              "    <path d=\"M120-120v-720h720v720H120Zm60-500h600v-160H180v160Zm220 220h160v-160H400v160Zm0 220h160v-160H400v160ZM180-400h160v-160H180v160Zm440 0h160v-160H620v160ZM180-180h160v-160H180v160Zm440 0h160v-160H620v160Z\"/>\n",
              "  </svg>\n",
              "    </button>\n",
              "\n",
              "  <style>\n",
              "    .colab-df-container {\n",
              "      display:flex;\n",
              "      gap: 12px;\n",
              "    }\n",
              "\n",
              "    .colab-df-convert {\n",
              "      background-color: #E8F0FE;\n",
              "      border: none;\n",
              "      border-radius: 50%;\n",
              "      cursor: pointer;\n",
              "      display: none;\n",
              "      fill: #1967D2;\n",
              "      height: 32px;\n",
              "      padding: 0 0 0 0;\n",
              "      width: 32px;\n",
              "    }\n",
              "\n",
              "    .colab-df-convert:hover {\n",
              "      background-color: #E2EBFA;\n",
              "      box-shadow: 0px 1px 2px rgba(60, 64, 67, 0.3), 0px 1px 3px 1px rgba(60, 64, 67, 0.15);\n",
              "      fill: #174EA6;\n",
              "    }\n",
              "\n",
              "    .colab-df-buttons div {\n",
              "      margin-bottom: 4px;\n",
              "    }\n",
              "\n",
              "    [theme=dark] .colab-df-convert {\n",
              "      background-color: #3B4455;\n",
              "      fill: #D2E3FC;\n",
              "    }\n",
              "\n",
              "    [theme=dark] .colab-df-convert:hover {\n",
              "      background-color: #434B5C;\n",
              "      box-shadow: 0px 1px 3px 1px rgba(0, 0, 0, 0.15);\n",
              "      filter: drop-shadow(0px 1px 2px rgba(0, 0, 0, 0.3));\n",
              "      fill: #FFFFFF;\n",
              "    }\n",
              "  </style>\n",
              "\n",
              "    <script>\n",
              "      const buttonEl =\n",
              "        document.querySelector('#df-cf0939b4-8709-4f84-a33f-6684918df9d4 button.colab-df-convert');\n",
              "      buttonEl.style.display =\n",
              "        google.colab.kernel.accessAllowed ? 'block' : 'none';\n",
              "\n",
              "      async function convertToInteractive(key) {\n",
              "        const element = document.querySelector('#df-cf0939b4-8709-4f84-a33f-6684918df9d4');\n",
              "        const dataTable =\n",
              "          await google.colab.kernel.invokeFunction('convertToInteractive',\n",
              "                                                    [key], {});\n",
              "        if (!dataTable) return;\n",
              "\n",
              "        const docLinkHtml = 'Like what you see? Visit the ' +\n",
              "          '<a target=\"_blank\" href=https://colab.research.google.com/notebooks/data_table.ipynb>data table notebook</a>'\n",
              "          + ' to learn more about interactive tables.';\n",
              "        element.innerHTML = '';\n",
              "        dataTable['output_type'] = 'display_data';\n",
              "        await google.colab.output.renderOutput(dataTable, element);\n",
              "        const docLink = document.createElement('div');\n",
              "        docLink.innerHTML = docLinkHtml;\n",
              "        element.appendChild(docLink);\n",
              "      }\n",
              "    </script>\n",
              "  </div>\n",
              "\n",
              "\n",
              "<div id=\"df-e6b5ea79-bd5c-4d07-8e71-06c6b7da314a\">\n",
              "  <button class=\"colab-df-quickchart\" onclick=\"quickchart('df-e6b5ea79-bd5c-4d07-8e71-06c6b7da314a')\"\n",
              "            title=\"Suggest charts\"\n",
              "            style=\"display:none;\">\n",
              "\n",
              "<svg xmlns=\"http://www.w3.org/2000/svg\" height=\"24px\"viewBox=\"0 0 24 24\"\n",
              "     width=\"24px\">\n",
              "    <g>\n",
              "        <path d=\"M19 3H5c-1.1 0-2 .9-2 2v14c0 1.1.9 2 2 2h14c1.1 0 2-.9 2-2V5c0-1.1-.9-2-2-2zM9 17H7v-7h2v7zm4 0h-2V7h2v10zm4 0h-2v-4h2v4z\"/>\n",
              "    </g>\n",
              "</svg>\n",
              "  </button>\n",
              "\n",
              "<style>\n",
              "  .colab-df-quickchart {\n",
              "      --bg-color: #E8F0FE;\n",
              "      --fill-color: #1967D2;\n",
              "      --hover-bg-color: #E2EBFA;\n",
              "      --hover-fill-color: #174EA6;\n",
              "      --disabled-fill-color: #AAA;\n",
              "      --disabled-bg-color: #DDD;\n",
              "  }\n",
              "\n",
              "  [theme=dark] .colab-df-quickchart {\n",
              "      --bg-color: #3B4455;\n",
              "      --fill-color: #D2E3FC;\n",
              "      --hover-bg-color: #434B5C;\n",
              "      --hover-fill-color: #FFFFFF;\n",
              "      --disabled-bg-color: #3B4455;\n",
              "      --disabled-fill-color: #666;\n",
              "  }\n",
              "\n",
              "  .colab-df-quickchart {\n",
              "    background-color: var(--bg-color);\n",
              "    border: none;\n",
              "    border-radius: 50%;\n",
              "    cursor: pointer;\n",
              "    display: none;\n",
              "    fill: var(--fill-color);\n",
              "    height: 32px;\n",
              "    padding: 0;\n",
              "    width: 32px;\n",
              "  }\n",
              "\n",
              "  .colab-df-quickchart:hover {\n",
              "    background-color: var(--hover-bg-color);\n",
              "    box-shadow: 0 1px 2px rgba(60, 64, 67, 0.3), 0 1px 3px 1px rgba(60, 64, 67, 0.15);\n",
              "    fill: var(--button-hover-fill-color);\n",
              "  }\n",
              "\n",
              "  .colab-df-quickchart-complete:disabled,\n",
              "  .colab-df-quickchart-complete:disabled:hover {\n",
              "    background-color: var(--disabled-bg-color);\n",
              "    fill: var(--disabled-fill-color);\n",
              "    box-shadow: none;\n",
              "  }\n",
              "\n",
              "  .colab-df-spinner {\n",
              "    border: 2px solid var(--fill-color);\n",
              "    border-color: transparent;\n",
              "    border-bottom-color: var(--fill-color);\n",
              "    animation:\n",
              "      spin 1s steps(1) infinite;\n",
              "  }\n",
              "\n",
              "  @keyframes spin {\n",
              "    0% {\n",
              "      border-color: transparent;\n",
              "      border-bottom-color: var(--fill-color);\n",
              "      border-left-color: var(--fill-color);\n",
              "    }\n",
              "    20% {\n",
              "      border-color: transparent;\n",
              "      border-left-color: var(--fill-color);\n",
              "      border-top-color: var(--fill-color);\n",
              "    }\n",
              "    30% {\n",
              "      border-color: transparent;\n",
              "      border-left-color: var(--fill-color);\n",
              "      border-top-color: var(--fill-color);\n",
              "      border-right-color: var(--fill-color);\n",
              "    }\n",
              "    40% {\n",
              "      border-color: transparent;\n",
              "      border-right-color: var(--fill-color);\n",
              "      border-top-color: var(--fill-color);\n",
              "    }\n",
              "    60% {\n",
              "      border-color: transparent;\n",
              "      border-right-color: var(--fill-color);\n",
              "    }\n",
              "    80% {\n",
              "      border-color: transparent;\n",
              "      border-right-color: var(--fill-color);\n",
              "      border-bottom-color: var(--fill-color);\n",
              "    }\n",
              "    90% {\n",
              "      border-color: transparent;\n",
              "      border-bottom-color: var(--fill-color);\n",
              "    }\n",
              "  }\n",
              "</style>\n",
              "\n",
              "  <script>\n",
              "    async function quickchart(key) {\n",
              "      const quickchartButtonEl =\n",
              "        document.querySelector('#' + key + ' button');\n",
              "      quickchartButtonEl.disabled = true;  // To prevent multiple clicks.\n",
              "      quickchartButtonEl.classList.add('colab-df-spinner');\n",
              "      try {\n",
              "        const charts = await google.colab.kernel.invokeFunction(\n",
              "            'suggestCharts', [key], {});\n",
              "      } catch (error) {\n",
              "        console.error('Error during call to suggestCharts:', error);\n",
              "      }\n",
              "      quickchartButtonEl.classList.remove('colab-df-spinner');\n",
              "      quickchartButtonEl.classList.add('colab-df-quickchart-complete');\n",
              "    }\n",
              "    (() => {\n",
              "      let quickchartButtonEl =\n",
              "        document.querySelector('#df-e6b5ea79-bd5c-4d07-8e71-06c6b7da314a button');\n",
              "      quickchartButtonEl.style.display =\n",
              "        google.colab.kernel.accessAllowed ? 'block' : 'none';\n",
              "    })();\n",
              "  </script>\n",
              "</div>\n",
              "    </div>\n",
              "  </div>\n"
            ]
          },
          "metadata": {},
          "execution_count": 2
        }
      ]
    },
    {
      "cell_type": "markdown",
      "source": [
        "Get to know data set, is the class attribute (class-attr)\n",
        "values balanced? How many spam messages does\n",
        "the data set contain?\n",
        "\n",
        "- Non-Spam: 4772\n",
        "- Spam: 741"
      ],
      "metadata": {
        "id": "kdUW5vjp-Gc8"
      }
    },
    {
      "cell_type": "code",
      "source": [
        "df = data.groupby(['Class'], sort=False).size().reset_index(name='Count')\n",
        "df"
      ],
      "metadata": {
        "colab": {
          "base_uri": "https://localhost:8080/",
          "height": 112
        },
        "id": "NYR-5SVf-Pbb",
        "outputId": "69624f94-defe-4cf3-c1bf-aed4f568fc12"
      },
      "execution_count": null,
      "outputs": [
        {
          "output_type": "execute_result",
          "data": {
            "text/plain": [
              "   Class  Count\n",
              "0    0.0   4772\n",
              "1    1.0    741"
            ],
            "text/html": [
              "\n",
              "  <div id=\"df-20f8c2eb-e2e6-413a-a517-c3c4b75b63bc\" class=\"colab-df-container\">\n",
              "    <div>\n",
              "<style scoped>\n",
              "    .dataframe tbody tr th:only-of-type {\n",
              "        vertical-align: middle;\n",
              "    }\n",
              "\n",
              "    .dataframe tbody tr th {\n",
              "        vertical-align: top;\n",
              "    }\n",
              "\n",
              "    .dataframe thead th {\n",
              "        text-align: right;\n",
              "    }\n",
              "</style>\n",
              "<table border=\"1\" class=\"dataframe\">\n",
              "  <thead>\n",
              "    <tr style=\"text-align: right;\">\n",
              "      <th></th>\n",
              "      <th>Class</th>\n",
              "      <th>Count</th>\n",
              "    </tr>\n",
              "  </thead>\n",
              "  <tbody>\n",
              "    <tr>\n",
              "      <th>0</th>\n",
              "      <td>0.0</td>\n",
              "      <td>4772</td>\n",
              "    </tr>\n",
              "    <tr>\n",
              "      <th>1</th>\n",
              "      <td>1.0</td>\n",
              "      <td>741</td>\n",
              "    </tr>\n",
              "  </tbody>\n",
              "</table>\n",
              "</div>\n",
              "    <div class=\"colab-df-buttons\">\n",
              "\n",
              "  <div class=\"colab-df-container\">\n",
              "    <button class=\"colab-df-convert\" onclick=\"convertToInteractive('df-20f8c2eb-e2e6-413a-a517-c3c4b75b63bc')\"\n",
              "            title=\"Convert this dataframe to an interactive table.\"\n",
              "            style=\"display:none;\">\n",
              "\n",
              "  <svg xmlns=\"http://www.w3.org/2000/svg\" height=\"24px\" viewBox=\"0 -960 960 960\">\n",
              "    <path d=\"M120-120v-720h720v720H120Zm60-500h600v-160H180v160Zm220 220h160v-160H400v160Zm0 220h160v-160H400v160ZM180-400h160v-160H180v160Zm440 0h160v-160H620v160ZM180-180h160v-160H180v160Zm440 0h160v-160H620v160Z\"/>\n",
              "  </svg>\n",
              "    </button>\n",
              "\n",
              "  <style>\n",
              "    .colab-df-container {\n",
              "      display:flex;\n",
              "      gap: 12px;\n",
              "    }\n",
              "\n",
              "    .colab-df-convert {\n",
              "      background-color: #E8F0FE;\n",
              "      border: none;\n",
              "      border-radius: 50%;\n",
              "      cursor: pointer;\n",
              "      display: none;\n",
              "      fill: #1967D2;\n",
              "      height: 32px;\n",
              "      padding: 0 0 0 0;\n",
              "      width: 32px;\n",
              "    }\n",
              "\n",
              "    .colab-df-convert:hover {\n",
              "      background-color: #E2EBFA;\n",
              "      box-shadow: 0px 1px 2px rgba(60, 64, 67, 0.3), 0px 1px 3px 1px rgba(60, 64, 67, 0.15);\n",
              "      fill: #174EA6;\n",
              "    }\n",
              "\n",
              "    .colab-df-buttons div {\n",
              "      margin-bottom: 4px;\n",
              "    }\n",
              "\n",
              "    [theme=dark] .colab-df-convert {\n",
              "      background-color: #3B4455;\n",
              "      fill: #D2E3FC;\n",
              "    }\n",
              "\n",
              "    [theme=dark] .colab-df-convert:hover {\n",
              "      background-color: #434B5C;\n",
              "      box-shadow: 0px 1px 3px 1px rgba(0, 0, 0, 0.15);\n",
              "      filter: drop-shadow(0px 1px 2px rgba(0, 0, 0, 0.3));\n",
              "      fill: #FFFFFF;\n",
              "    }\n",
              "  </style>\n",
              "\n",
              "    <script>\n",
              "      const buttonEl =\n",
              "        document.querySelector('#df-20f8c2eb-e2e6-413a-a517-c3c4b75b63bc button.colab-df-convert');\n",
              "      buttonEl.style.display =\n",
              "        google.colab.kernel.accessAllowed ? 'block' : 'none';\n",
              "\n",
              "      async function convertToInteractive(key) {\n",
              "        const element = document.querySelector('#df-20f8c2eb-e2e6-413a-a517-c3c4b75b63bc');\n",
              "        const dataTable =\n",
              "          await google.colab.kernel.invokeFunction('convertToInteractive',\n",
              "                                                    [key], {});\n",
              "        if (!dataTable) return;\n",
              "\n",
              "        const docLinkHtml = 'Like what you see? Visit the ' +\n",
              "          '<a target=\"_blank\" href=https://colab.research.google.com/notebooks/data_table.ipynb>data table notebook</a>'\n",
              "          + ' to learn more about interactive tables.';\n",
              "        element.innerHTML = '';\n",
              "        dataTable['output_type'] = 'display_data';\n",
              "        await google.colab.output.renderOutput(dataTable, element);\n",
              "        const docLink = document.createElement('div');\n",
              "        docLink.innerHTML = docLinkHtml;\n",
              "        element.appendChild(docLink);\n",
              "      }\n",
              "    </script>\n",
              "  </div>\n",
              "\n",
              "\n",
              "<div id=\"df-5309295e-f944-4d3e-afeb-17a128dfdebd\">\n",
              "  <button class=\"colab-df-quickchart\" onclick=\"quickchart('df-5309295e-f944-4d3e-afeb-17a128dfdebd')\"\n",
              "            title=\"Suggest charts\"\n",
              "            style=\"display:none;\">\n",
              "\n",
              "<svg xmlns=\"http://www.w3.org/2000/svg\" height=\"24px\"viewBox=\"0 0 24 24\"\n",
              "     width=\"24px\">\n",
              "    <g>\n",
              "        <path d=\"M19 3H5c-1.1 0-2 .9-2 2v14c0 1.1.9 2 2 2h14c1.1 0 2-.9 2-2V5c0-1.1-.9-2-2-2zM9 17H7v-7h2v7zm4 0h-2V7h2v10zm4 0h-2v-4h2v4z\"/>\n",
              "    </g>\n",
              "</svg>\n",
              "  </button>\n",
              "\n",
              "<style>\n",
              "  .colab-df-quickchart {\n",
              "      --bg-color: #E8F0FE;\n",
              "      --fill-color: #1967D2;\n",
              "      --hover-bg-color: #E2EBFA;\n",
              "      --hover-fill-color: #174EA6;\n",
              "      --disabled-fill-color: #AAA;\n",
              "      --disabled-bg-color: #DDD;\n",
              "  }\n",
              "\n",
              "  [theme=dark] .colab-df-quickchart {\n",
              "      --bg-color: #3B4455;\n",
              "      --fill-color: #D2E3FC;\n",
              "      --hover-bg-color: #434B5C;\n",
              "      --hover-fill-color: #FFFFFF;\n",
              "      --disabled-bg-color: #3B4455;\n",
              "      --disabled-fill-color: #666;\n",
              "  }\n",
              "\n",
              "  .colab-df-quickchart {\n",
              "    background-color: var(--bg-color);\n",
              "    border: none;\n",
              "    border-radius: 50%;\n",
              "    cursor: pointer;\n",
              "    display: none;\n",
              "    fill: var(--fill-color);\n",
              "    height: 32px;\n",
              "    padding: 0;\n",
              "    width: 32px;\n",
              "  }\n",
              "\n",
              "  .colab-df-quickchart:hover {\n",
              "    background-color: var(--hover-bg-color);\n",
              "    box-shadow: 0 1px 2px rgba(60, 64, 67, 0.3), 0 1px 3px 1px rgba(60, 64, 67, 0.15);\n",
              "    fill: var(--button-hover-fill-color);\n",
              "  }\n",
              "\n",
              "  .colab-df-quickchart-complete:disabled,\n",
              "  .colab-df-quickchart-complete:disabled:hover {\n",
              "    background-color: var(--disabled-bg-color);\n",
              "    fill: var(--disabled-fill-color);\n",
              "    box-shadow: none;\n",
              "  }\n",
              "\n",
              "  .colab-df-spinner {\n",
              "    border: 2px solid var(--fill-color);\n",
              "    border-color: transparent;\n",
              "    border-bottom-color: var(--fill-color);\n",
              "    animation:\n",
              "      spin 1s steps(1) infinite;\n",
              "  }\n",
              "\n",
              "  @keyframes spin {\n",
              "    0% {\n",
              "      border-color: transparent;\n",
              "      border-bottom-color: var(--fill-color);\n",
              "      border-left-color: var(--fill-color);\n",
              "    }\n",
              "    20% {\n",
              "      border-color: transparent;\n",
              "      border-left-color: var(--fill-color);\n",
              "      border-top-color: var(--fill-color);\n",
              "    }\n",
              "    30% {\n",
              "      border-color: transparent;\n",
              "      border-left-color: var(--fill-color);\n",
              "      border-top-color: var(--fill-color);\n",
              "      border-right-color: var(--fill-color);\n",
              "    }\n",
              "    40% {\n",
              "      border-color: transparent;\n",
              "      border-right-color: var(--fill-color);\n",
              "      border-top-color: var(--fill-color);\n",
              "    }\n",
              "    60% {\n",
              "      border-color: transparent;\n",
              "      border-right-color: var(--fill-color);\n",
              "    }\n",
              "    80% {\n",
              "      border-color: transparent;\n",
              "      border-right-color: var(--fill-color);\n",
              "      border-bottom-color: var(--fill-color);\n",
              "    }\n",
              "    90% {\n",
              "      border-color: transparent;\n",
              "      border-bottom-color: var(--fill-color);\n",
              "    }\n",
              "  }\n",
              "</style>\n",
              "\n",
              "  <script>\n",
              "    async function quickchart(key) {\n",
              "      const quickchartButtonEl =\n",
              "        document.querySelector('#' + key + ' button');\n",
              "      quickchartButtonEl.disabled = true;  // To prevent multiple clicks.\n",
              "      quickchartButtonEl.classList.add('colab-df-spinner');\n",
              "      try {\n",
              "        const charts = await google.colab.kernel.invokeFunction(\n",
              "            'suggestCharts', [key], {});\n",
              "      } catch (error) {\n",
              "        console.error('Error during call to suggestCharts:', error);\n",
              "      }\n",
              "      quickchartButtonEl.classList.remove('colab-df-spinner');\n",
              "      quickchartButtonEl.classList.add('colab-df-quickchart-complete');\n",
              "    }\n",
              "    (() => {\n",
              "      let quickchartButtonEl =\n",
              "        document.querySelector('#df-5309295e-f944-4d3e-afeb-17a128dfdebd button');\n",
              "      quickchartButtonEl.style.display =\n",
              "        google.colab.kernel.accessAllowed ? 'block' : 'none';\n",
              "    })();\n",
              "  </script>\n",
              "</div>\n",
              "    </div>\n",
              "  </div>\n"
            ]
          },
          "metadata": {},
          "execution_count": 3
        }
      ]
    },
    {
      "cell_type": "markdown",
      "source": [
        "# Cleanup Data"
      ],
      "metadata": {
        "id": "-BBQVbAleCDB"
      }
    },
    {
      "cell_type": "markdown",
      "source": [
        "Convert messages to lowercase"
      ],
      "metadata": {
        "id": "rg8b9GkNeOxn"
      }
    },
    {
      "cell_type": "code",
      "source": [
        "data['Message'] = data['Message'].str.lower()\n",
        "data"
      ],
      "metadata": {
        "colab": {
          "base_uri": "https://localhost:8080/",
          "height": 424
        },
        "id": "pLFWJ4NxEOBV",
        "outputId": "75d1a9b5-dc88-4157-ceb5-c88ab42ee7d6"
      },
      "execution_count": null,
      "outputs": [
        {
          "output_type": "execute_result",
          "data": {
            "text/plain": [
              "        id                                            Message  Class\n",
              "0        1  go until jurong point,crazy.. available only i...    0.0\n",
              "1        2                      ok lar... joking wif u oni...    0.0\n",
              "2        3  free entry in 2 a wkly comp to win fa cup fina...    1.0\n",
              "3        4  u dun say so early hor... u c already then say...    0.0\n",
              "4        5  nah i don\\''t think he goes to usf,he lives ar...    0.0\n",
              "...    ...                                                ...    ...\n",
              "5554  5571            will ãâ¼ b going to esplanade fr home?    0.0\n",
              "5555  5572  pity,* was in mood for that. so...any other su...    0.0\n",
              "5556  5573  the guy did some bitching but i acted like i\\'...    0.0\n",
              "5557  5574                         rofl. its true to its name    0.0\n",
              "5558  5575                                        hello world    0.0\n",
              "\n",
              "[5513 rows x 3 columns]"
            ],
            "text/html": [
              "\n",
              "  <div id=\"df-f28a8c25-7b29-4af9-b7f9-6bf8c1ae76d9\" class=\"colab-df-container\">\n",
              "    <div>\n",
              "<style scoped>\n",
              "    .dataframe tbody tr th:only-of-type {\n",
              "        vertical-align: middle;\n",
              "    }\n",
              "\n",
              "    .dataframe tbody tr th {\n",
              "        vertical-align: top;\n",
              "    }\n",
              "\n",
              "    .dataframe thead th {\n",
              "        text-align: right;\n",
              "    }\n",
              "</style>\n",
              "<table border=\"1\" class=\"dataframe\">\n",
              "  <thead>\n",
              "    <tr style=\"text-align: right;\">\n",
              "      <th></th>\n",
              "      <th>id</th>\n",
              "      <th>Message</th>\n",
              "      <th>Class</th>\n",
              "    </tr>\n",
              "  </thead>\n",
              "  <tbody>\n",
              "    <tr>\n",
              "      <th>0</th>\n",
              "      <td>1</td>\n",
              "      <td>go until jurong point,crazy.. available only i...</td>\n",
              "      <td>0.0</td>\n",
              "    </tr>\n",
              "    <tr>\n",
              "      <th>1</th>\n",
              "      <td>2</td>\n",
              "      <td>ok lar... joking wif u oni...</td>\n",
              "      <td>0.0</td>\n",
              "    </tr>\n",
              "    <tr>\n",
              "      <th>2</th>\n",
              "      <td>3</td>\n",
              "      <td>free entry in 2 a wkly comp to win fa cup fina...</td>\n",
              "      <td>1.0</td>\n",
              "    </tr>\n",
              "    <tr>\n",
              "      <th>3</th>\n",
              "      <td>4</td>\n",
              "      <td>u dun say so early hor... u c already then say...</td>\n",
              "      <td>0.0</td>\n",
              "    </tr>\n",
              "    <tr>\n",
              "      <th>4</th>\n",
              "      <td>5</td>\n",
              "      <td>nah i don\\''t think he goes to usf,he lives ar...</td>\n",
              "      <td>0.0</td>\n",
              "    </tr>\n",
              "    <tr>\n",
              "      <th>...</th>\n",
              "      <td>...</td>\n",
              "      <td>...</td>\n",
              "      <td>...</td>\n",
              "    </tr>\n",
              "    <tr>\n",
              "      <th>5554</th>\n",
              "      <td>5571</td>\n",
              "      <td>will ãâ¼ b going to esplanade fr home?</td>\n",
              "      <td>0.0</td>\n",
              "    </tr>\n",
              "    <tr>\n",
              "      <th>5555</th>\n",
              "      <td>5572</td>\n",
              "      <td>pity,* was in mood for that. so...any other su...</td>\n",
              "      <td>0.0</td>\n",
              "    </tr>\n",
              "    <tr>\n",
              "      <th>5556</th>\n",
              "      <td>5573</td>\n",
              "      <td>the guy did some bitching but i acted like i\\'...</td>\n",
              "      <td>0.0</td>\n",
              "    </tr>\n",
              "    <tr>\n",
              "      <th>5557</th>\n",
              "      <td>5574</td>\n",
              "      <td>rofl. its true to its name</td>\n",
              "      <td>0.0</td>\n",
              "    </tr>\n",
              "    <tr>\n",
              "      <th>5558</th>\n",
              "      <td>5575</td>\n",
              "      <td>hello world</td>\n",
              "      <td>0.0</td>\n",
              "    </tr>\n",
              "  </tbody>\n",
              "</table>\n",
              "<p>5513 rows × 3 columns</p>\n",
              "</div>\n",
              "    <div class=\"colab-df-buttons\">\n",
              "\n",
              "  <div class=\"colab-df-container\">\n",
              "    <button class=\"colab-df-convert\" onclick=\"convertToInteractive('df-f28a8c25-7b29-4af9-b7f9-6bf8c1ae76d9')\"\n",
              "            title=\"Convert this dataframe to an interactive table.\"\n",
              "            style=\"display:none;\">\n",
              "\n",
              "  <svg xmlns=\"http://www.w3.org/2000/svg\" height=\"24px\" viewBox=\"0 -960 960 960\">\n",
              "    <path d=\"M120-120v-720h720v720H120Zm60-500h600v-160H180v160Zm220 220h160v-160H400v160Zm0 220h160v-160H400v160ZM180-400h160v-160H180v160Zm440 0h160v-160H620v160ZM180-180h160v-160H180v160Zm440 0h160v-160H620v160Z\"/>\n",
              "  </svg>\n",
              "    </button>\n",
              "\n",
              "  <style>\n",
              "    .colab-df-container {\n",
              "      display:flex;\n",
              "      gap: 12px;\n",
              "    }\n",
              "\n",
              "    .colab-df-convert {\n",
              "      background-color: #E8F0FE;\n",
              "      border: none;\n",
              "      border-radius: 50%;\n",
              "      cursor: pointer;\n",
              "      display: none;\n",
              "      fill: #1967D2;\n",
              "      height: 32px;\n",
              "      padding: 0 0 0 0;\n",
              "      width: 32px;\n",
              "    }\n",
              "\n",
              "    .colab-df-convert:hover {\n",
              "      background-color: #E2EBFA;\n",
              "      box-shadow: 0px 1px 2px rgba(60, 64, 67, 0.3), 0px 1px 3px 1px rgba(60, 64, 67, 0.15);\n",
              "      fill: #174EA6;\n",
              "    }\n",
              "\n",
              "    .colab-df-buttons div {\n",
              "      margin-bottom: 4px;\n",
              "    }\n",
              "\n",
              "    [theme=dark] .colab-df-convert {\n",
              "      background-color: #3B4455;\n",
              "      fill: #D2E3FC;\n",
              "    }\n",
              "\n",
              "    [theme=dark] .colab-df-convert:hover {\n",
              "      background-color: #434B5C;\n",
              "      box-shadow: 0px 1px 3px 1px rgba(0, 0, 0, 0.15);\n",
              "      filter: drop-shadow(0px 1px 2px rgba(0, 0, 0, 0.3));\n",
              "      fill: #FFFFFF;\n",
              "    }\n",
              "  </style>\n",
              "\n",
              "    <script>\n",
              "      const buttonEl =\n",
              "        document.querySelector('#df-f28a8c25-7b29-4af9-b7f9-6bf8c1ae76d9 button.colab-df-convert');\n",
              "      buttonEl.style.display =\n",
              "        google.colab.kernel.accessAllowed ? 'block' : 'none';\n",
              "\n",
              "      async function convertToInteractive(key) {\n",
              "        const element = document.querySelector('#df-f28a8c25-7b29-4af9-b7f9-6bf8c1ae76d9');\n",
              "        const dataTable =\n",
              "          await google.colab.kernel.invokeFunction('convertToInteractive',\n",
              "                                                    [key], {});\n",
              "        if (!dataTable) return;\n",
              "\n",
              "        const docLinkHtml = 'Like what you see? Visit the ' +\n",
              "          '<a target=\"_blank\" href=https://colab.research.google.com/notebooks/data_table.ipynb>data table notebook</a>'\n",
              "          + ' to learn more about interactive tables.';\n",
              "        element.innerHTML = '';\n",
              "        dataTable['output_type'] = 'display_data';\n",
              "        await google.colab.output.renderOutput(dataTable, element);\n",
              "        const docLink = document.createElement('div');\n",
              "        docLink.innerHTML = docLinkHtml;\n",
              "        element.appendChild(docLink);\n",
              "      }\n",
              "    </script>\n",
              "  </div>\n",
              "\n",
              "\n",
              "<div id=\"df-ed35a259-1246-4b75-9893-3abecd0a558d\">\n",
              "  <button class=\"colab-df-quickchart\" onclick=\"quickchart('df-ed35a259-1246-4b75-9893-3abecd0a558d')\"\n",
              "            title=\"Suggest charts\"\n",
              "            style=\"display:none;\">\n",
              "\n",
              "<svg xmlns=\"http://www.w3.org/2000/svg\" height=\"24px\"viewBox=\"0 0 24 24\"\n",
              "     width=\"24px\">\n",
              "    <g>\n",
              "        <path d=\"M19 3H5c-1.1 0-2 .9-2 2v14c0 1.1.9 2 2 2h14c1.1 0 2-.9 2-2V5c0-1.1-.9-2-2-2zM9 17H7v-7h2v7zm4 0h-2V7h2v10zm4 0h-2v-4h2v4z\"/>\n",
              "    </g>\n",
              "</svg>\n",
              "  </button>\n",
              "\n",
              "<style>\n",
              "  .colab-df-quickchart {\n",
              "      --bg-color: #E8F0FE;\n",
              "      --fill-color: #1967D2;\n",
              "      --hover-bg-color: #E2EBFA;\n",
              "      --hover-fill-color: #174EA6;\n",
              "      --disabled-fill-color: #AAA;\n",
              "      --disabled-bg-color: #DDD;\n",
              "  }\n",
              "\n",
              "  [theme=dark] .colab-df-quickchart {\n",
              "      --bg-color: #3B4455;\n",
              "      --fill-color: #D2E3FC;\n",
              "      --hover-bg-color: #434B5C;\n",
              "      --hover-fill-color: #FFFFFF;\n",
              "      --disabled-bg-color: #3B4455;\n",
              "      --disabled-fill-color: #666;\n",
              "  }\n",
              "\n",
              "  .colab-df-quickchart {\n",
              "    background-color: var(--bg-color);\n",
              "    border: none;\n",
              "    border-radius: 50%;\n",
              "    cursor: pointer;\n",
              "    display: none;\n",
              "    fill: var(--fill-color);\n",
              "    height: 32px;\n",
              "    padding: 0;\n",
              "    width: 32px;\n",
              "  }\n",
              "\n",
              "  .colab-df-quickchart:hover {\n",
              "    background-color: var(--hover-bg-color);\n",
              "    box-shadow: 0 1px 2px rgba(60, 64, 67, 0.3), 0 1px 3px 1px rgba(60, 64, 67, 0.15);\n",
              "    fill: var(--button-hover-fill-color);\n",
              "  }\n",
              "\n",
              "  .colab-df-quickchart-complete:disabled,\n",
              "  .colab-df-quickchart-complete:disabled:hover {\n",
              "    background-color: var(--disabled-bg-color);\n",
              "    fill: var(--disabled-fill-color);\n",
              "    box-shadow: none;\n",
              "  }\n",
              "\n",
              "  .colab-df-spinner {\n",
              "    border: 2px solid var(--fill-color);\n",
              "    border-color: transparent;\n",
              "    border-bottom-color: var(--fill-color);\n",
              "    animation:\n",
              "      spin 1s steps(1) infinite;\n",
              "  }\n",
              "\n",
              "  @keyframes spin {\n",
              "    0% {\n",
              "      border-color: transparent;\n",
              "      border-bottom-color: var(--fill-color);\n",
              "      border-left-color: var(--fill-color);\n",
              "    }\n",
              "    20% {\n",
              "      border-color: transparent;\n",
              "      border-left-color: var(--fill-color);\n",
              "      border-top-color: var(--fill-color);\n",
              "    }\n",
              "    30% {\n",
              "      border-color: transparent;\n",
              "      border-left-color: var(--fill-color);\n",
              "      border-top-color: var(--fill-color);\n",
              "      border-right-color: var(--fill-color);\n",
              "    }\n",
              "    40% {\n",
              "      border-color: transparent;\n",
              "      border-right-color: var(--fill-color);\n",
              "      border-top-color: var(--fill-color);\n",
              "    }\n",
              "    60% {\n",
              "      border-color: transparent;\n",
              "      border-right-color: var(--fill-color);\n",
              "    }\n",
              "    80% {\n",
              "      border-color: transparent;\n",
              "      border-right-color: var(--fill-color);\n",
              "      border-bottom-color: var(--fill-color);\n",
              "    }\n",
              "    90% {\n",
              "      border-color: transparent;\n",
              "      border-bottom-color: var(--fill-color);\n",
              "    }\n",
              "  }\n",
              "</style>\n",
              "\n",
              "  <script>\n",
              "    async function quickchart(key) {\n",
              "      const quickchartButtonEl =\n",
              "        document.querySelector('#' + key + ' button');\n",
              "      quickchartButtonEl.disabled = true;  // To prevent multiple clicks.\n",
              "      quickchartButtonEl.classList.add('colab-df-spinner');\n",
              "      try {\n",
              "        const charts = await google.colab.kernel.invokeFunction(\n",
              "            'suggestCharts', [key], {});\n",
              "      } catch (error) {\n",
              "        console.error('Error during call to suggestCharts:', error);\n",
              "      }\n",
              "      quickchartButtonEl.classList.remove('colab-df-spinner');\n",
              "      quickchartButtonEl.classList.add('colab-df-quickchart-complete');\n",
              "    }\n",
              "    (() => {\n",
              "      let quickchartButtonEl =\n",
              "        document.querySelector('#df-ed35a259-1246-4b75-9893-3abecd0a558d button');\n",
              "      quickchartButtonEl.style.display =\n",
              "        google.colab.kernel.accessAllowed ? 'block' : 'none';\n",
              "    })();\n",
              "  </script>\n",
              "</div>\n",
              "    </div>\n",
              "  </div>\n"
            ]
          },
          "metadata": {},
          "execution_count": 4
        }
      ]
    },
    {
      "cell_type": "markdown",
      "source": [
        "Remove punctuation and stopwords from the messages"
      ],
      "metadata": {
        "id": "0axOstd7JJLR"
      }
    },
    {
      "cell_type": "code",
      "source": [
        "nltk.download('stopwords')\n",
        "\n",
        "def prepare_message(text):\n",
        "    text = text.translate(str.maketrans(string.punctuation, ' '*len(string.punctuation)))\n",
        "    text = [word for word in text.split() if word.lower() not in stopwords.words('english')]\n",
        "    return \" \".join(text)\n",
        "\n",
        "data['Message'] = data['Message'].apply(prepare_message)\n",
        "data.head()\n"
      ],
      "metadata": {
        "colab": {
          "base_uri": "https://localhost:8080/",
          "height": 243
        },
        "id": "IcT1S82aIx8h",
        "outputId": "7843db6e-465e-4832-98f5-47852e3b8f46"
      },
      "execution_count": null,
      "outputs": [
        {
          "output_type": "stream",
          "name": "stderr",
          "text": [
            "[nltk_data] Downloading package stopwords to /root/nltk_data...\n",
            "[nltk_data]   Unzipping corpora/stopwords.zip.\n"
          ]
        },
        {
          "output_type": "execute_result",
          "data": {
            "text/plain": [
              "  id                                            Message  Class\n",
              "0  1  go jurong point crazy available bugis n great ...    0.0\n",
              "1  2                            ok lar joking wif u oni    0.0\n",
              "2  3  free entry 2 wkly comp win fa cup final tkts 2...    1.0\n",
              "3  4                u dun say early hor u c already say    0.0\n",
              "4  5             nah think goes usf lives around though    0.0"
            ],
            "text/html": [
              "\n",
              "  <div id=\"df-663fb6af-83e6-4ae3-a28a-271254fb36c8\" class=\"colab-df-container\">\n",
              "    <div>\n",
              "<style scoped>\n",
              "    .dataframe tbody tr th:only-of-type {\n",
              "        vertical-align: middle;\n",
              "    }\n",
              "\n",
              "    .dataframe tbody tr th {\n",
              "        vertical-align: top;\n",
              "    }\n",
              "\n",
              "    .dataframe thead th {\n",
              "        text-align: right;\n",
              "    }\n",
              "</style>\n",
              "<table border=\"1\" class=\"dataframe\">\n",
              "  <thead>\n",
              "    <tr style=\"text-align: right;\">\n",
              "      <th></th>\n",
              "      <th>id</th>\n",
              "      <th>Message</th>\n",
              "      <th>Class</th>\n",
              "    </tr>\n",
              "  </thead>\n",
              "  <tbody>\n",
              "    <tr>\n",
              "      <th>0</th>\n",
              "      <td>1</td>\n",
              "      <td>go jurong point crazy available bugis n great ...</td>\n",
              "      <td>0.0</td>\n",
              "    </tr>\n",
              "    <tr>\n",
              "      <th>1</th>\n",
              "      <td>2</td>\n",
              "      <td>ok lar joking wif u oni</td>\n",
              "      <td>0.0</td>\n",
              "    </tr>\n",
              "    <tr>\n",
              "      <th>2</th>\n",
              "      <td>3</td>\n",
              "      <td>free entry 2 wkly comp win fa cup final tkts 2...</td>\n",
              "      <td>1.0</td>\n",
              "    </tr>\n",
              "    <tr>\n",
              "      <th>3</th>\n",
              "      <td>4</td>\n",
              "      <td>u dun say early hor u c already say</td>\n",
              "      <td>0.0</td>\n",
              "    </tr>\n",
              "    <tr>\n",
              "      <th>4</th>\n",
              "      <td>5</td>\n",
              "      <td>nah think goes usf lives around though</td>\n",
              "      <td>0.0</td>\n",
              "    </tr>\n",
              "  </tbody>\n",
              "</table>\n",
              "</div>\n",
              "    <div class=\"colab-df-buttons\">\n",
              "\n",
              "  <div class=\"colab-df-container\">\n",
              "    <button class=\"colab-df-convert\" onclick=\"convertToInteractive('df-663fb6af-83e6-4ae3-a28a-271254fb36c8')\"\n",
              "            title=\"Convert this dataframe to an interactive table.\"\n",
              "            style=\"display:none;\">\n",
              "\n",
              "  <svg xmlns=\"http://www.w3.org/2000/svg\" height=\"24px\" viewBox=\"0 -960 960 960\">\n",
              "    <path d=\"M120-120v-720h720v720H120Zm60-500h600v-160H180v160Zm220 220h160v-160H400v160Zm0 220h160v-160H400v160ZM180-400h160v-160H180v160Zm440 0h160v-160H620v160ZM180-180h160v-160H180v160Zm440 0h160v-160H620v160Z\"/>\n",
              "  </svg>\n",
              "    </button>\n",
              "\n",
              "  <style>\n",
              "    .colab-df-container {\n",
              "      display:flex;\n",
              "      gap: 12px;\n",
              "    }\n",
              "\n",
              "    .colab-df-convert {\n",
              "      background-color: #E8F0FE;\n",
              "      border: none;\n",
              "      border-radius: 50%;\n",
              "      cursor: pointer;\n",
              "      display: none;\n",
              "      fill: #1967D2;\n",
              "      height: 32px;\n",
              "      padding: 0 0 0 0;\n",
              "      width: 32px;\n",
              "    }\n",
              "\n",
              "    .colab-df-convert:hover {\n",
              "      background-color: #E2EBFA;\n",
              "      box-shadow: 0px 1px 2px rgba(60, 64, 67, 0.3), 0px 1px 3px 1px rgba(60, 64, 67, 0.15);\n",
              "      fill: #174EA6;\n",
              "    }\n",
              "\n",
              "    .colab-df-buttons div {\n",
              "      margin-bottom: 4px;\n",
              "    }\n",
              "\n",
              "    [theme=dark] .colab-df-convert {\n",
              "      background-color: #3B4455;\n",
              "      fill: #D2E3FC;\n",
              "    }\n",
              "\n",
              "    [theme=dark] .colab-df-convert:hover {\n",
              "      background-color: #434B5C;\n",
              "      box-shadow: 0px 1px 3px 1px rgba(0, 0, 0, 0.15);\n",
              "      filter: drop-shadow(0px 1px 2px rgba(0, 0, 0, 0.3));\n",
              "      fill: #FFFFFF;\n",
              "    }\n",
              "  </style>\n",
              "\n",
              "    <script>\n",
              "      const buttonEl =\n",
              "        document.querySelector('#df-663fb6af-83e6-4ae3-a28a-271254fb36c8 button.colab-df-convert');\n",
              "      buttonEl.style.display =\n",
              "        google.colab.kernel.accessAllowed ? 'block' : 'none';\n",
              "\n",
              "      async function convertToInteractive(key) {\n",
              "        const element = document.querySelector('#df-663fb6af-83e6-4ae3-a28a-271254fb36c8');\n",
              "        const dataTable =\n",
              "          await google.colab.kernel.invokeFunction('convertToInteractive',\n",
              "                                                    [key], {});\n",
              "        if (!dataTable) return;\n",
              "\n",
              "        const docLinkHtml = 'Like what you see? Visit the ' +\n",
              "          '<a target=\"_blank\" href=https://colab.research.google.com/notebooks/data_table.ipynb>data table notebook</a>'\n",
              "          + ' to learn more about interactive tables.';\n",
              "        element.innerHTML = '';\n",
              "        dataTable['output_type'] = 'display_data';\n",
              "        await google.colab.output.renderOutput(dataTable, element);\n",
              "        const docLink = document.createElement('div');\n",
              "        docLink.innerHTML = docLinkHtml;\n",
              "        element.appendChild(docLink);\n",
              "      }\n",
              "    </script>\n",
              "  </div>\n",
              "\n",
              "\n",
              "<div id=\"df-86ca3009-6ad3-4244-856e-ddf52dfbfaab\">\n",
              "  <button class=\"colab-df-quickchart\" onclick=\"quickchart('df-86ca3009-6ad3-4244-856e-ddf52dfbfaab')\"\n",
              "            title=\"Suggest charts\"\n",
              "            style=\"display:none;\">\n",
              "\n",
              "<svg xmlns=\"http://www.w3.org/2000/svg\" height=\"24px\"viewBox=\"0 0 24 24\"\n",
              "     width=\"24px\">\n",
              "    <g>\n",
              "        <path d=\"M19 3H5c-1.1 0-2 .9-2 2v14c0 1.1.9 2 2 2h14c1.1 0 2-.9 2-2V5c0-1.1-.9-2-2-2zM9 17H7v-7h2v7zm4 0h-2V7h2v10zm4 0h-2v-4h2v4z\"/>\n",
              "    </g>\n",
              "</svg>\n",
              "  </button>\n",
              "\n",
              "<style>\n",
              "  .colab-df-quickchart {\n",
              "      --bg-color: #E8F0FE;\n",
              "      --fill-color: #1967D2;\n",
              "      --hover-bg-color: #E2EBFA;\n",
              "      --hover-fill-color: #174EA6;\n",
              "      --disabled-fill-color: #AAA;\n",
              "      --disabled-bg-color: #DDD;\n",
              "  }\n",
              "\n",
              "  [theme=dark] .colab-df-quickchart {\n",
              "      --bg-color: #3B4455;\n",
              "      --fill-color: #D2E3FC;\n",
              "      --hover-bg-color: #434B5C;\n",
              "      --hover-fill-color: #FFFFFF;\n",
              "      --disabled-bg-color: #3B4455;\n",
              "      --disabled-fill-color: #666;\n",
              "  }\n",
              "\n",
              "  .colab-df-quickchart {\n",
              "    background-color: var(--bg-color);\n",
              "    border: none;\n",
              "    border-radius: 50%;\n",
              "    cursor: pointer;\n",
              "    display: none;\n",
              "    fill: var(--fill-color);\n",
              "    height: 32px;\n",
              "    padding: 0;\n",
              "    width: 32px;\n",
              "  }\n",
              "\n",
              "  .colab-df-quickchart:hover {\n",
              "    background-color: var(--hover-bg-color);\n",
              "    box-shadow: 0 1px 2px rgba(60, 64, 67, 0.3), 0 1px 3px 1px rgba(60, 64, 67, 0.15);\n",
              "    fill: var(--button-hover-fill-color);\n",
              "  }\n",
              "\n",
              "  .colab-df-quickchart-complete:disabled,\n",
              "  .colab-df-quickchart-complete:disabled:hover {\n",
              "    background-color: var(--disabled-bg-color);\n",
              "    fill: var(--disabled-fill-color);\n",
              "    box-shadow: none;\n",
              "  }\n",
              "\n",
              "  .colab-df-spinner {\n",
              "    border: 2px solid var(--fill-color);\n",
              "    border-color: transparent;\n",
              "    border-bottom-color: var(--fill-color);\n",
              "    animation:\n",
              "      spin 1s steps(1) infinite;\n",
              "  }\n",
              "\n",
              "  @keyframes spin {\n",
              "    0% {\n",
              "      border-color: transparent;\n",
              "      border-bottom-color: var(--fill-color);\n",
              "      border-left-color: var(--fill-color);\n",
              "    }\n",
              "    20% {\n",
              "      border-color: transparent;\n",
              "      border-left-color: var(--fill-color);\n",
              "      border-top-color: var(--fill-color);\n",
              "    }\n",
              "    30% {\n",
              "      border-color: transparent;\n",
              "      border-left-color: var(--fill-color);\n",
              "      border-top-color: var(--fill-color);\n",
              "      border-right-color: var(--fill-color);\n",
              "    }\n",
              "    40% {\n",
              "      border-color: transparent;\n",
              "      border-right-color: var(--fill-color);\n",
              "      border-top-color: var(--fill-color);\n",
              "    }\n",
              "    60% {\n",
              "      border-color: transparent;\n",
              "      border-right-color: var(--fill-color);\n",
              "    }\n",
              "    80% {\n",
              "      border-color: transparent;\n",
              "      border-right-color: var(--fill-color);\n",
              "      border-bottom-color: var(--fill-color);\n",
              "    }\n",
              "    90% {\n",
              "      border-color: transparent;\n",
              "      border-bottom-color: var(--fill-color);\n",
              "    }\n",
              "  }\n",
              "</style>\n",
              "\n",
              "  <script>\n",
              "    async function quickchart(key) {\n",
              "      const quickchartButtonEl =\n",
              "        document.querySelector('#' + key + ' button');\n",
              "      quickchartButtonEl.disabled = true;  // To prevent multiple clicks.\n",
              "      quickchartButtonEl.classList.add('colab-df-spinner');\n",
              "      try {\n",
              "        const charts = await google.colab.kernel.invokeFunction(\n",
              "            'suggestCharts', [key], {});\n",
              "      } catch (error) {\n",
              "        console.error('Error during call to suggestCharts:', error);\n",
              "      }\n",
              "      quickchartButtonEl.classList.remove('colab-df-spinner');\n",
              "      quickchartButtonEl.classList.add('colab-df-quickchart-complete');\n",
              "    }\n",
              "    (() => {\n",
              "      let quickchartButtonEl =\n",
              "        document.querySelector('#df-86ca3009-6ad3-4244-856e-ddf52dfbfaab button');\n",
              "      quickchartButtonEl.style.display =\n",
              "        google.colab.kernel.accessAllowed ? 'block' : 'none';\n",
              "    })();\n",
              "  </script>\n",
              "</div>\n",
              "    </div>\n",
              "  </div>\n"
            ]
          },
          "metadata": {},
          "execution_count": 5
        }
      ]
    },
    {
      "cell_type": "markdown",
      "source": [
        "Create data frames processed data and target"
      ],
      "metadata": {
        "id": "zCRhVMUtKhNw"
      }
    },
    {
      "cell_type": "code",
      "source": [
        "msg = pd.DataFrame(data['Message'])\n",
        "target = pd.DataFrame(data['Class'])\n"
      ],
      "metadata": {
        "id": "L29kH26IKNhl"
      },
      "execution_count": null,
      "outputs": []
    },
    {
      "cell_type": "markdown",
      "source": [
        "# Convert words to vectors"
      ],
      "metadata": {
        "id": "rhsPq8tjdjDp"
      }
    },
    {
      "cell_type": "code",
      "source": [
        "from collections import Counter\n",
        "\n",
        "total_frequency_counts = Counter()\n",
        "for i in range(len(msg)):\n",
        "    for word in msg.values[i][0].split(\" \"):\n",
        "        total_frequency_counts[word] += 1\n",
        "\n",
        "presence_words = []\n",
        "for i in range(len(msg)):\n",
        "  presence_words.extend(list(set(msg.values[i][0].split(\" \"))))\n",
        "total_presence_counts = Counter(presence_words)\n",
        "\n",
        "print(\"Total frequency words in data set: \", len(total_frequency_counts))\n",
        "print(\"Total presence words in data set: \", len(total_presence_counts))"
      ],
      "metadata": {
        "colab": {
          "base_uri": "https://localhost:8080/"
        },
        "id": "1mDn3cwc9RpJ",
        "outputId": "17807de7-05b4-43f9-8555-b4aadbc4a63e"
      },
      "execution_count": null,
      "outputs": [
        {
          "output_type": "stream",
          "name": "stdout",
          "text": [
            "Total frequency words in data set:  8633\n",
            "Total presence words in data set:  8633\n"
          ]
        }
      ]
    },
    {
      "cell_type": "code",
      "source": [
        "vocab_frequency = sorted(total_frequency_counts, key=total_frequency_counts.get, reverse=True)\n",
        "vocab_frequency_100 = vocab_frequency[:100]\n",
        "vocab_frequency_1000 = vocab_frequency[:1000]\n",
        "print(\"Frequency vocabolary: \", vocab_frequency[:10])\n",
        "\n",
        "presence_vocab = sorted(total_presence_counts, key=total_presence_counts.get, reverse=True)\n",
        "presence_vocab_100 = presence_vocab[:100]\n",
        "presence_vocab_1000 = presence_vocab[:1000]\n",
        "print(presence_vocab[:10])\n",
        "print(\"Presence vocabolary: \", presence_vocab[:10])"
      ],
      "metadata": {
        "colab": {
          "base_uri": "https://localhost:8080/"
        },
        "id": "RAZXw2R69YgO",
        "outputId": "14ac6775-0d8c-4822-f4eb-aa01a4aa9dfa"
      },
      "execution_count": null,
      "outputs": [
        {
          "output_type": "stream",
          "name": "stdout",
          "text": [
            "Frequency vocabolary:  ['u', 'call', '2', 'ur', 'get', '4', 'gt', 'lt', 'ok', 'free']\n",
            "['u', 'call', '2', 'get', 'ur', '4', 'ok', 'go', 'know', 'lt']\n",
            "Presence vocabolary:  ['u', 'call', '2', 'get', 'ur', '4', 'ok', 'go', 'know', 'lt']\n"
          ]
        }
      ]
    },
    {
      "cell_type": "code",
      "source": [
        "word_map_frequency_100 = {}\n",
        "for i, word in enumerate(vocab_frequency_100):\n",
        "    word_map_frequency_100[word] = i\n",
        "\n",
        "word_map_frequency_1000 = {}\n",
        "for i, word in enumerate(vocab_frequency_1000):\n",
        "    word_map_frequency_1000[word] = i\n",
        "\n",
        "word_map_presence_100 = {}\n",
        "for i, word in enumerate(presence_vocab_100):\n",
        "    word_map_presence_100[word] = i\n",
        "\n",
        "word_map_presence_1000 = {}\n",
        "for i, word in enumerate(presence_vocab_1000):\n",
        "    word_map_presence_1000[word] = i\n"
      ],
      "metadata": {
        "id": "Guf5pP819eqw"
      },
      "execution_count": null,
      "outputs": []
    },
    {
      "cell_type": "code",
      "source": [
        "def text_to_vector(text, vocab_size, word_map):\n",
        "    word_vector = np.zeros(vocab_size)\n",
        "    for word in text.split(\" \"):\n",
        "        if word_map.get(word) is None:\n",
        "            continue\n",
        "        else:\n",
        "            word_vector[word_map.get(word)] += 1\n",
        "    return np.array(word_vector)\n",
        "\n",
        "word_vectors_frequency_100 = np.zeros((len(msg), len(vocab_frequency_100)), dtype=np.int_)\n",
        "for i, (_, t) in enumerate(msg.iterrows()):\n",
        "    word_vectors_frequency_100[i] = text_to_vector(t[0], len(vocab_frequency_100), word_map_frequency_100)\n",
        "\n",
        "word_vectors_frequency_1000 = np.zeros((len(msg), len(vocab_frequency_1000)), dtype=np.int_)\n",
        "for i, (_, t) in enumerate(msg.iterrows()):\n",
        "    word_vectors_frequency_1000[i] = text_to_vector(t[0], len(vocab_frequency_1000), word_map_frequency_1000)\n",
        "\n",
        "word_vectors_presence_100 = np.zeros((len(msg), len(presence_vocab_100)), dtype=np.int_)\n",
        "for i, (_, t) in enumerate(msg.iterrows()):\n",
        "    word_vectors_presence_100[i] = text_to_vector(t[0], len(presence_vocab_100), word_map_presence_100)\n",
        "\n",
        "word_vectors_presence_1000 = np.zeros((len(msg), len(presence_vocab_1000)), dtype=np.int_)\n",
        "for i, (_, t) in enumerate(msg.iterrows()):\n",
        "    word_vectors_presence_1000[i] = text_to_vector(t[0], len(presence_vocab_1000), word_map_presence_1000)\n",
        "\n",
        "# word_vectors.shape"
      ],
      "metadata": {
        "id": "LzGXPo7q9k2W"
      },
      "execution_count": null,
      "outputs": []
    },
    {
      "cell_type": "markdown",
      "source": [
        "# Classify word **frequency 100**"
      ],
      "metadata": {
        "id": "fKfEJ_KEdakJ"
      }
    },
    {
      "cell_type": "code",
      "source": [
        "features = word_vectors_frequency_100\n",
        "x_train, x_test, y_train, y_test = train_test_split(features, target, test_size=0.15, random_state=42)"
      ],
      "metadata": {
        "id": "NA--_4JHR0fk"
      },
      "execution_count": null,
      "outputs": []
    },
    {
      "cell_type": "code",
      "source": [
        "svc = SVC(kernel='sigmoid', gamma=1.0)\n",
        "knc = KNeighborsClassifier(n_neighbors=49)\n",
        "mnb = MultinomialNB(alpha=0.2)\n",
        "dtc = DecisionTreeClassifier(min_samples_split=7, random_state=42)\n",
        "lrc = LogisticRegression(solver='liblinear', penalty='l1')\n",
        "rfc = RandomForestClassifier(n_estimators=31, random_state=42)\n",
        "\n",
        "clfs = {'SVC' : svc,'KNC' : knc, 'MNB': mnb, 'DTC': dtc, 'LRC': lrc, 'RFC': rfc}\n",
        "\n",
        "pred_scores_word_vectors = []\n",
        "for k,v in clfs.items():\n",
        "    v.fit(x_train, y_train)\n",
        "    pred = v.predict(x_test)\n",
        "\n",
        "    a = accuracy_score(y_test, pred);\n",
        "    f1 = f1_score(y_true = y_test, y_pred = pred, average='weighted');\n",
        "    pred_scores_word_vectors.append((k, a, f1))\n",
        "\n",
        "pred_scores_word_vectors"
      ],
      "metadata": {
        "colab": {
          "base_uri": "https://localhost:8080/"
        },
        "id": "o-8xFh72PhVr",
        "outputId": "75ef80c5-6a0d-4bff-a9a7-b54a396283be"
      },
      "execution_count": null,
      "outputs": [
        {
          "output_type": "stream",
          "name": "stderr",
          "text": [
            "/usr/local/lib/python3.10/dist-packages/sklearn/utils/validation.py:1143: DataConversionWarning: A column-vector y was passed when a 1d array was expected. Please change the shape of y to (n_samples, ), for example using ravel().\n",
            "  y = column_or_1d(y, warn=True)\n",
            "/usr/local/lib/python3.10/dist-packages/sklearn/neighbors/_classification.py:215: DataConversionWarning: A column-vector y was passed when a 1d array was expected. Please change the shape of y to (n_samples,), for example using ravel().\n",
            "  return self._fit(X, y)\n",
            "/usr/local/lib/python3.10/dist-packages/sklearn/utils/validation.py:1143: DataConversionWarning: A column-vector y was passed when a 1d array was expected. Please change the shape of y to (n_samples, ), for example using ravel().\n",
            "  y = column_or_1d(y, warn=True)\n",
            "/usr/local/lib/python3.10/dist-packages/sklearn/utils/validation.py:1143: DataConversionWarning: A column-vector y was passed when a 1d array was expected. Please change the shape of y to (n_samples, ), for example using ravel().\n",
            "  y = column_or_1d(y, warn=True)\n",
            "<ipython-input-12-f2d87696d72b>:12: DataConversionWarning: A column-vector y was passed when a 1d array was expected. Please change the shape of y to (n_samples,), for example using ravel().\n",
            "  v.fit(x_train, y_train)\n"
          ]
        },
        {
          "output_type": "execute_result",
          "data": {
            "text/plain": [
              "[('SVC', 0.8972188633615478, 0.8993130120849215),\n",
              " ('KNC', 0.905683192261185, 0.8894341992467183),\n",
              " ('MNB', 0.9540507859733979, 0.9526800047268661),\n",
              " ('DTC', 0.9649334945586457, 0.9638060468484893),\n",
              " ('LRC', 0.9625151148730351, 0.9614827798156772),\n",
              " ('RFC', 0.9685610640870617, 0.967476485665196)]"
            ]
          },
          "metadata": {},
          "execution_count": 12
        }
      ]
    },
    {
      "cell_type": "markdown",
      "source": [
        "Confusion matrix for Support vector machines"
      ],
      "metadata": {
        "id": "L6xT5M50Wh7G"
      }
    },
    {
      "cell_type": "code",
      "source": [
        "y_pred_nb = svc.predict(x_test)\n",
        "y_true_nb = y_test\n",
        "cm = confusion_matrix(y_true_nb, y_pred_nb)\n",
        "f, ax = plt.subplots(figsize =(5,5))\n",
        "sns.heatmap(cm,annot = True,linewidths=0.5,linecolor=\"white\",fmt = \".0f\",ax=ax)\n",
        "plt.xlabel(\"pred\")\n",
        "plt.ylabel(\"true\")\n",
        "plt.show()"
      ],
      "metadata": {
        "colab": {
          "base_uri": "https://localhost:8080/",
          "height": 465
        },
        "id": "SeteOh1DWl6D",
        "outputId": "03b7f2a4-2649-4154-f9b9-81aac378b7a2"
      },
      "execution_count": null,
      "outputs": [
        {
          "output_type": "display_data",
          "data": {
            "text/plain": [
              "<Figure size 500x500 with 2 Axes>"
            ],
            "image/png": "[encoded data removed]"
          },
          "metadata": {}
        }
      ]
    },
    {
      "cell_type": "markdown",
      "source": [
        "Confusion matrix for KNN"
      ],
      "metadata": {
        "id": "FJF2m0gKWxh0"
      }
    },
    {
      "cell_type": "code",
      "source": [
        "y_pred_nb = knc.predict(x_test)\n",
        "y_true_nb = y_test\n",
        "cm = confusion_matrix(y_true_nb, y_pred_nb)\n",
        "f, ax = plt.subplots(figsize =(5,5))\n",
        "sns.heatmap(cm,annot = True,linewidths=0.5,linecolor=\"white\",fmt = \".0f\",ax=ax)\n",
        "plt.xlabel(\"pred\")\n",
        "plt.ylabel(\"true\")\n",
        "plt.show()"
      ],
      "metadata": {
        "colab": {
          "base_uri": "https://localhost:8080/",
          "height": 465
        },
        "id": "IAyh8eLPWy9v",
        "outputId": "5ffceaa5-5904-41aa-d747-382683808e08"
      },
      "execution_count": null,
      "outputs": [
        {
          "output_type": "display_data",
          "data": {
            "text/plain": [
              "<Figure size 500x500 with 2 Axes>"
            ],
            "image/png": "[encoded data removed]"
          },
          "metadata": {}
        }
      ]
    },
    {
      "cell_type": "markdown",
      "source": [
        "Confusion matrix for Decision Tree"
      ],
      "metadata": {
        "id": "ngrzRGCnXN2n"
      }
    },
    {
      "cell_type": "code",
      "source": [
        "y_pred_nb = dtc.predict(x_test)\n",
        "y_true_nb = y_test\n",
        "cm = confusion_matrix(y_true_nb, y_pred_nb)\n",
        "f, ax = plt.subplots(figsize =(5,5))\n",
        "sns.heatmap(cm,annot = True,linewidths=0.5,linecolor=\"white\",fmt = \".0f\",ax=ax)\n",
        "plt.xlabel(\"pred\")\n",
        "plt.ylabel(\"true\")\n",
        "plt.show()"
      ],
      "metadata": {
        "colab": {
          "base_uri": "https://localhost:8080/",
          "height": 465
        },
        "id": "Z86Ql8j6XMg7",
        "outputId": "75045de0-c813-486d-9833-94c522bc12e6"
      },
      "execution_count": null,
      "outputs": [
        {
          "output_type": "display_data",
          "data": {
            "text/plain": [
              "<Figure size 500x500 with 2 Axes>"
            ],
            "image/png": "[encoded data removed]"
          },
          "metadata": {}
        }
      ]
    },
    {
      "cell_type": "markdown",
      "source": [
        "Confusion Matrix for Logistic Regression"
      ],
      "metadata": {
        "id": "JQaH_JITXhk4"
      }
    },
    {
      "cell_type": "code",
      "source": [
        "y_pred_nb = lrc.predict(x_test)\n",
        "y_true_nb = y_test\n",
        "cm = confusion_matrix(y_true_nb, y_pred_nb)\n",
        "f, ax = plt.subplots(figsize =(5,5))\n",
        "sns.heatmap(cm,annot = True,linewidths=0.5,linecolor=\"white\",fmt = \".0f\",ax=ax)\n",
        "plt.xlabel(\"pred\")\n",
        "plt.ylabel(\"true\")\n",
        "plt.show()"
      ],
      "metadata": {
        "colab": {
          "base_uri": "https://localhost:8080/",
          "height": 465
        },
        "id": "v7nIbsiYXiqJ",
        "outputId": "a0da0dd7-36ff-49ef-c448-bef9248654bd"
      },
      "execution_count": null,
      "outputs": [
        {
          "output_type": "display_data",
          "data": {
            "text/plain": [
              "<Figure size 500x500 with 2 Axes>"
            ],
            "image/png": "[encoded data removed]"
          },
          "metadata": {}
        }
      ]
    },
    {
      "cell_type": "markdown",
      "source": [
        "Confusion matrix for Naive Bayes"
      ],
      "metadata": {
        "id": "Qebtfh-iWUSK"
      }
    },
    {
      "cell_type": "code",
      "source": [
        "y_pred_nb = mnb.predict(x_test)\n",
        "y_true_nb = y_test\n",
        "cm = confusion_matrix(y_true_nb, y_pred_nb)\n",
        "f, ax = plt.subplots(figsize =(5,5))\n",
        "sns.heatmap(cm,annot = True,linewidths=0.5,linecolor=\"white\",fmt = \".0f\",ax=ax)\n",
        "plt.xlabel(\"pred\")\n",
        "plt.ylabel(\"true\")\n",
        "plt.show()\n"
      ],
      "metadata": {
        "colab": {
          "base_uri": "https://localhost:8080/",
          "height": 466
        },
        "id": "nzm_lyHjRWS-",
        "outputId": "af9555a0-b5fc-46b6-865b-f3eaf24aa690"
      },
      "execution_count": null,
      "outputs": [
        {
          "output_type": "display_data",
          "data": {
            "text/plain": [
              "<Figure size 500x500 with 2 Axes>"
            ],
            "image/png": "[encoded data removed]"
          },
          "metadata": {}
        }
      ]
    },
    {
      "cell_type": "markdown",
      "source": [
        "Confusion Matrix for RandomForrest"
      ],
      "metadata": {
        "id": "UjcYoie6Xu00"
      }
    },
    {
      "cell_type": "code",
      "source": [
        "y_pred_nb = rfc.predict(x_test)\n",
        "y_true_nb = y_test\n",
        "cm = confusion_matrix(y_true_nb, y_pred_nb)\n",
        "f, ax = plt.subplots(figsize =(5,5))\n",
        "sns.heatmap(cm,annot = True,linewidths=0.5,linecolor=\"white\",fmt = \".0f\",ax=ax)\n",
        "plt.xlabel(\"pred\")\n",
        "plt.ylabel(\"true\")\n",
        "plt.show()"
      ],
      "metadata": {
        "colab": {
          "base_uri": "https://localhost:8080/",
          "height": 465
        },
        "id": "rn9f1RM6Xz0F",
        "outputId": "e695441a-3182-49ac-df3c-6f1758d21667"
      },
      "execution_count": null,
      "outputs": [
        {
          "output_type": "display_data",
          "data": {
            "text/plain": [
              "<Figure size 500x500 with 2 Axes>"
            ],
            "image/png": "[encoded data removed]"
          },
          "metadata": {}
        }
      ]
    },
    {
      "cell_type": "markdown",
      "source": [
        "**Summary word frequency 100**: Classifying word frequency 100 has been executed the best by Random Forest Classifier with the Accuracy of 0.9686 and weighted F-measure of 0.9675\n",
        "In the second place is Decision Tree with the accuracy of 0.9649 and weighted F-measure of 0.9638.\n",
        "\n",
        "The worst performing classifier has been the support vector machine with the accuracy of 0.8972 and weighted F-measure of 0.8993 followed by KNN with the accuracy of 0.9057 and weighted F-measure of 0.8894.\n",
        "\n",
        "Thus we can conlude that the Random Forest performs better due to its nature of combination of multiple trees and reduced overfitting and as for the SVC it doesn't perform well, because\n",
        "it is been trained on the imbalanced dataset leading it to being biased towards the majority class.  "
      ],
      "metadata": {
        "id": "FTXje9mDhiOu"
      }
    },
    {
      "cell_type": "markdown",
      "source": [
        "#Classify word **frequency 1000**"
      ],
      "metadata": {
        "id": "Upd-dd9FegNh"
      }
    },
    {
      "cell_type": "code",
      "source": [
        "features = word_vectors_frequency_1000\n",
        "x_train, x_test, y_train, y_test = train_test_split(features, target, test_size=0.15, random_state=42)"
      ],
      "metadata": {
        "id": "zlmmVmAnepN2"
      },
      "execution_count": null,
      "outputs": []
    },
    {
      "cell_type": "code",
      "source": [
        "svc = SVC(kernel='sigmoid', gamma=1.0)\n",
        "knc = KNeighborsClassifier(n_neighbors=49)\n",
        "mnb = MultinomialNB(alpha=0.2)\n",
        "dtc = DecisionTreeClassifier(min_samples_split=7, random_state=42)\n",
        "lrc = LogisticRegression(solver='liblinear', penalty='l1')\n",
        "rfc = RandomForestClassifier(n_estimators=31, random_state=42)\n",
        "\n",
        "clfs = {'SVC' : svc,'KNC' : knc, 'MNB': mnb, 'DTC': dtc, 'LRC': lrc, 'RFC': rfc}\n",
        "\n",
        "pred_scores_word_vectors = []\n",
        "for k,v in clfs.items():\n",
        "    v.fit(x_train, y_train)\n",
        "    pred = v.predict(x_test)\n",
        "\n",
        "    a = accuracy_score(y_test, pred);\n",
        "    f1 = f1_score(y_true = y_test, y_pred = pred, average='weighted');\n",
        "    pred_scores_word_vectors.append((k, a, f1))\n",
        "\n",
        "pred_scores_word_vectors"
      ],
      "metadata": {
        "colab": {
          "base_uri": "https://localhost:8080/"
        },
        "id": "6m81avPfeuYl",
        "outputId": "c9c28b90-3b1c-4638-d688-70528e566dce"
      },
      "execution_count": null,
      "outputs": [
        {
          "output_type": "stream",
          "name": "stderr",
          "text": [
            "/usr/local/lib/python3.10/dist-packages/sklearn/utils/validation.py:1143: DataConversionWarning: A column-vector y was passed when a 1d array was expected. Please change the shape of y to (n_samples, ), for example using ravel().\n",
            "  y = column_or_1d(y, warn=True)\n",
            "/usr/local/lib/python3.10/dist-packages/sklearn/neighbors/_classification.py:215: DataConversionWarning: A column-vector y was passed when a 1d array was expected. Please change the shape of y to (n_samples,), for example using ravel().\n",
            "  return self._fit(X, y)\n",
            "/usr/local/lib/python3.10/dist-packages/sklearn/utils/validation.py:1143: DataConversionWarning: A column-vector y was passed when a 1d array was expected. Please change the shape of y to (n_samples, ), for example using ravel().\n",
            "  y = column_or_1d(y, warn=True)\n",
            "/usr/local/lib/python3.10/dist-packages/sklearn/utils/validation.py:1143: DataConversionWarning: A column-vector y was passed when a 1d array was expected. Please change the shape of y to (n_samples, ), for example using ravel().\n",
            "  y = column_or_1d(y, warn=True)\n",
            "<ipython-input-22-f2d87696d72b>:12: DataConversionWarning: A column-vector y was passed when a 1d array was expected. Please change the shape of y to (n_samples,), for example using ravel().\n",
            "  v.fit(x_train, y_train)\n"
          ]
        },
        {
          "output_type": "execute_result",
          "data": {
            "text/plain": [
              "[('SVC', 0.9141475211608222, 0.9152849999866052),\n",
              " ('KNC', 0.8694074969770254, 0.8086726912373625),\n",
              " ('MNB', 0.9794437726723095, 0.9792358291759428),\n",
              " ('DTC', 0.973397823458283, 0.9729598314570242),\n",
              " ('LRC', 0.9782345828295043, 0.9777814528322238),\n",
              " ('RFC', 0.9794437726723095, 0.9786858307877998)]"
            ]
          },
          "metadata": {},
          "execution_count": 22
        }
      ]
    },
    {
      "cell_type": "markdown",
      "source": [
        "Confusion matrix for Support vector machines"
      ],
      "metadata": {
        "id": "yKbhHfcxe2ot"
      }
    },
    {
      "cell_type": "code",
      "source": [
        "y_pred_nb = svc.predict(x_test)\n",
        "y_true_nb = y_test\n",
        "cm = confusion_matrix(y_true_nb, y_pred_nb)\n",
        "f, ax = plt.subplots(figsize =(5,5))\n",
        "sns.heatmap(cm,annot = True, cmap='crest', linewidths=0.5,linecolor=\"white\",fmt = \".0f\",ax=ax)\n",
        "plt.xlabel(\"pred\")\n",
        "plt.ylabel(\"true\")\n",
        "plt.show()"
      ],
      "metadata": {
        "colab": {
          "base_uri": "https://localhost:8080/",
          "height": 465
        },
        "id": "5EsfBkDWfP6-",
        "outputId": "44ae8b01-aa36-4d24-fe57-ce440aac071c"
      },
      "execution_count": null,
      "outputs": [
        {
          "output_type": "display_data",
          "data": {
            "text/plain": [
              "<Figure size 500x500 with 2 Axes>"
            ],
            "image/png": "[encoded data removed]"
          },
          "metadata": {}
        }
      ]
    },
    {
      "cell_type": "markdown",
      "source": [
        "Confusion matrix for KNN"
      ],
      "metadata": {
        "id": "tzblobzhe6wh"
      }
    },
    {
      "cell_type": "code",
      "source": [
        "y_pred_nb = knc.predict(x_test)\n",
        "y_true_nb = y_test\n",
        "cm = confusion_matrix(y_true_nb, y_pred_nb)\n",
        "f, ax = plt.subplots(figsize =(5,5))\n",
        "sns.heatmap(cm,annot = True,cmap='crest',linewidths=0.5,linecolor=\"white\",fmt = \".0f\",ax=ax)\n",
        "plt.xlabel(\"pred\")\n",
        "plt.ylabel(\"true\")\n",
        "plt.show()"
      ],
      "metadata": {
        "colab": {
          "base_uri": "https://localhost:8080/",
          "height": 465
        },
        "id": "oVsNq8udfRvY",
        "outputId": "9575b9d3-ad56-434c-cf5b-9fb0e9660d90"
      },
      "execution_count": null,
      "outputs": [
        {
          "output_type": "display_data",
          "data": {
            "text/plain": [
              "<Figure size 500x500 with 2 Axes>"
            ],
            "image/png": "[encoded data removed]"
          },
          "metadata": {}
        }
      ]
    },
    {
      "cell_type": "markdown",
      "source": [
        "Confusion matrix for Decision Tree"
      ],
      "metadata": {
        "id": "sYK2kQ_Qe-W_"
      }
    },
    {
      "cell_type": "code",
      "source": [
        "y_pred_nb = dtc.predict(x_test)\n",
        "y_true_nb = y_test\n",
        "cm = confusion_matrix(y_true_nb, y_pred_nb)\n",
        "f, ax = plt.subplots(figsize =(5,5))\n",
        "sns.heatmap(cm,annot = True,cmap='crest',linewidths=0.5,linecolor=\"white\",fmt = \".0f\",ax=ax)\n",
        "plt.xlabel(\"pred\")\n",
        "plt.ylabel(\"true\")\n",
        "plt.show()"
      ],
      "metadata": {
        "colab": {
          "base_uri": "https://localhost:8080/",
          "height": 465
        },
        "id": "h-Dt8qqNfngY",
        "outputId": "cf38bd9a-0100-488b-eb4c-e47a2ea352ca"
      },
      "execution_count": null,
      "outputs": [
        {
          "output_type": "display_data",
          "data": {
            "text/plain": [
              "<Figure size 500x500 with 2 Axes>"
            ],
            "image/png": "[encoded data removed]"
          },
          "metadata": {}
        }
      ]
    },
    {
      "cell_type": "markdown",
      "source": [
        "Confusion Matrix for Logistic Regression"
      ],
      "metadata": {
        "id": "JzP4FJdpfCJ-"
      }
    },
    {
      "cell_type": "code",
      "source": [
        "y_pred_nb = lrc.predict(x_test)\n",
        "y_true_nb = y_test\n",
        "cm = confusion_matrix(y_true_nb, y_pred_nb)\n",
        "f, ax = plt.subplots(figsize =(5,5))\n",
        "sns.heatmap(cm,annot = True,cmap='crest',linewidths=0.5,linecolor=\"white\",fmt = \".0f\",ax=ax)\n",
        "plt.xlabel(\"pred\")\n",
        "plt.ylabel(\"true\")\n",
        "plt.show()"
      ],
      "metadata": {
        "colab": {
          "base_uri": "https://localhost:8080/",
          "height": 465
        },
        "id": "cRLdEkgVfucZ",
        "outputId": "33bce761-7c0b-44f5-b9d8-94eff64c9bc5"
      },
      "execution_count": null,
      "outputs": [
        {
          "output_type": "display_data",
          "data": {
            "text/plain": [
              "<Figure size 500x500 with 2 Axes>"
            ],
            "image/png": "[encoded data removed]"
          },
          "metadata": {}
        }
      ]
    },
    {
      "cell_type": "markdown",
      "source": [
        "Confusion matrix for Naive Bayes"
      ],
      "metadata": {
        "id": "lSUkpkfYfF50"
      }
    },
    {
      "cell_type": "code",
      "source": [
        "y_pred_nb = mnb.predict(x_test)\n",
        "y_true_nb = y_test\n",
        "cm = confusion_matrix(y_true_nb, y_pred_nb)\n",
        "f, ax = plt.subplots(figsize =(5,5))\n",
        "sns.heatmap(cm,annot = True,cmap='crest',linewidths=0.5,linecolor=\"white\",fmt = \".0f\",ax=ax)\n",
        "plt.xlabel(\"pred\")\n",
        "plt.ylabel(\"true\")\n",
        "plt.show()\n"
      ],
      "metadata": {
        "colab": {
          "base_uri": "https://localhost:8080/",
          "height": 465
        },
        "id": "-JWfKxRCf3G1",
        "outputId": "636a893c-2932-4dac-f768-b40a7ac14c51"
      },
      "execution_count": null,
      "outputs": [
        {
          "output_type": "display_data",
          "data": {
            "text/plain": [
              "<Figure size 500x500 with 2 Axes>"
            ],
            "image/png": "[encoded data removed]"
          },
          "metadata": {}
        }
      ]
    },
    {
      "cell_type": "markdown",
      "source": [
        "Confusion Matrix for RandomForrest"
      ],
      "metadata": {
        "id": "Fhs5uskMfJ_B"
      }
    },
    {
      "cell_type": "code",
      "source": [
        "y_pred_nb = rfc.predict(x_test)\n",
        "y_true_nb = y_test\n",
        "cm = confusion_matrix(y_true_nb, y_pred_nb)\n",
        "f, ax = plt.subplots(figsize =(5,5))\n",
        "sns.heatmap(cm,annot = True,cmap='crest',linewidths=0.5,linecolor=\"white\",fmt = \".0f\",ax=ax)\n",
        "plt.xlabel(\"pred\")\n",
        "plt.ylabel(\"true\")\n",
        "plt.show()"
      ],
      "metadata": {
        "colab": {
          "base_uri": "https://localhost:8080/",
          "height": 465
        },
        "id": "epjOSaEff58n",
        "outputId": "13782b05-628d-41a9-a8d0-1c611442e10e"
      },
      "execution_count": null,
      "outputs": [
        {
          "output_type": "display_data",
          "data": {
            "text/plain": [
              "<Figure size 500x500 with 2 Axes>"
            ],
            "image/png": "[encoded data removed]"
          },
          "metadata": {}
        }
      ]
    },
    {
      "cell_type": "markdown",
      "source": [
        "Summary word frequency 1000: Classifying word frequency 1000 has been executed the best by Naive Bayes Classifier with the Accuracy of 0.9794 and weighted F-measure of 0.9792. Random Forest shares the same Accuracy and weighted F-measure less for 0.0006.\n",
        "\n",
        "The worst performing classifier has been KNN with the accuracy of 0.8694 and weighted F-measure of 0.8087.\n",
        "\n"
      ],
      "metadata": {
        "id": "ns-p0768h74C"
      }
    },
    {
      "cell_type": "markdown",
      "source": [
        "#Classify word presence 100"
      ],
      "metadata": {
        "id": "dczi-ooZf8VO"
      }
    },
    {
      "cell_type": "code",
      "source": [
        "features = word_vectors_presence_100\n",
        "x_train, x_test, y_train, y_test = train_test_split(features, target, test_size=0.15, random_state=42)"
      ],
      "metadata": {
        "id": "HQSUGaMhgC74"
      },
      "execution_count": null,
      "outputs": []
    },
    {
      "cell_type": "code",
      "source": [
        "svc = SVC(kernel='sigmoid', gamma=1.0)\n",
        "knc = KNeighborsClassifier(n_neighbors=49)\n",
        "mnb = MultinomialNB(alpha=0.2)\n",
        "dtc = DecisionTreeClassifier(min_samples_split=7, random_state=42)\n",
        "lrc = LogisticRegression(solver='liblinear', penalty='l1')\n",
        "rfc = RandomForestClassifier(n_estimators=31, random_state=42)\n",
        "\n",
        "clfs = {'SVC' : svc,'KNC' : knc, 'MNB': mnb, 'DTC': dtc, 'LRC': lrc, 'RFC': rfc}\n",
        "\n",
        "pred_scores_word_vectors = []\n",
        "for k,v in clfs.items():\n",
        "    v.fit(x_train, y_train)\n",
        "    pred = v.predict(x_test)\n",
        "\n",
        "    a = accuracy_score(y_test, pred);\n",
        "    f1 = f1_score(y_true = y_test, y_pred = pred, average='weighted');\n",
        "    pred_scores_word_vectors.append((k, a, f1))\n",
        "\n",
        "pred_scores_word_vectors"
      ],
      "metadata": {
        "colab": {
          "base_uri": "https://localhost:8080/"
        },
        "id": "hdG5BbSUgJp1",
        "outputId": "c901b211-c69c-4681-cef8-4c2efb696ba7"
      },
      "execution_count": null,
      "outputs": [
        {
          "output_type": "stream",
          "name": "stderr",
          "text": [
            "/usr/local/lib/python3.10/dist-packages/sklearn/utils/validation.py:1143: DataConversionWarning: A column-vector y was passed when a 1d array was expected. Please change the shape of y to (n_samples, ), for example using ravel().\n",
            "  y = column_or_1d(y, warn=True)\n",
            "/usr/local/lib/python3.10/dist-packages/sklearn/neighbors/_classification.py:215: DataConversionWarning: A column-vector y was passed when a 1d array was expected. Please change the shape of y to (n_samples,), for example using ravel().\n",
            "  return self._fit(X, y)\n",
            "/usr/local/lib/python3.10/dist-packages/sklearn/utils/validation.py:1143: DataConversionWarning: A column-vector y was passed when a 1d array was expected. Please change the shape of y to (n_samples, ), for example using ravel().\n",
            "  y = column_or_1d(y, warn=True)\n",
            "/usr/local/lib/python3.10/dist-packages/sklearn/utils/validation.py:1143: DataConversionWarning: A column-vector y was passed when a 1d array was expected. Please change the shape of y to (n_samples, ), for example using ravel().\n",
            "  y = column_or_1d(y, warn=True)\n",
            "<ipython-input-85-f2d87696d72b>:12: DataConversionWarning: A column-vector y was passed when a 1d array was expected. Please change the shape of y to (n_samples,), for example using ravel().\n",
            "  v.fit(x_train, y_train)\n"
          ]
        },
        {
          "output_type": "execute_result",
          "data": {
            "text/plain": [
              "[('SVC', 0.9008464328899637, 0.9019786220055755),\n",
              " ('KNC', 0.9081015719467956, 0.893015592434677),\n",
              " ('MNB', 0.9552599758162031, 0.9536103375969756),\n",
              " ('DTC', 0.9613059250302297, 0.9597862838491618),\n",
              " ('LRC', 0.9637243047158404, 0.9626421089948942),\n",
              " ('RFC', 0.9625151148730351, 0.9607664658320514)]"
            ]
          },
          "metadata": {},
          "execution_count": 85
        }
      ]
    },
    {
      "cell_type": "markdown",
      "source": [
        "Confusion matrix for Support vector machines"
      ],
      "metadata": {
        "id": "2mZUNl08gPOX"
      }
    },
    {
      "cell_type": "code",
      "source": [
        "y_pred_nb = svc.predict(x_test)\n",
        "y_true_nb = y_test\n",
        "cm = confusion_matrix(y_true_nb, y_pred_nb)\n",
        "f, ax = plt.subplots(figsize =(5,5))\n",
        "sns.heatmap(cm,annot = True,linewidths=0.5,cmap='icefire',linecolor=\"white\",fmt = \".0f\",ax=ax)\n",
        "plt.xlabel(\"pred\")\n",
        "plt.ylabel(\"true\")\n",
        "plt.show()"
      ],
      "metadata": {
        "colab": {
          "base_uri": "https://localhost:8080/",
          "height": 465
        },
        "id": "aNCIFWdIgpCN",
        "outputId": "cd97987f-d956-4d6a-b00f-e2f781a1046c"
      },
      "execution_count": null,
      "outputs": [
        {
          "output_type": "display_data",
          "data": {
            "text/plain": [
              "<Figure size 500x500 with 2 Axes>"
            ],
            "image/png": "[encoded data removed]"
          },
          "metadata": {}
        }
      ]
    },
    {
      "cell_type": "markdown",
      "source": [
        "Confusion matrix for KNN"
      ],
      "metadata": {
        "id": "P6vvAP-hgSq8"
      }
    },
    {
      "cell_type": "code",
      "source": [
        "y_pred_nb = knc.predict(x_test)\n",
        "y_true_nb = y_test\n",
        "cm = confusion_matrix(y_true_nb, y_pred_nb)\n",
        "f, ax = plt.subplots(figsize =(5,5))\n",
        "sns.heatmap(cm,annot = True,linewidths=0.5,cmap='icefire',linecolor=\"white\",fmt = \".0f\",ax=ax)\n",
        "plt.xlabel(\"pred\")\n",
        "plt.ylabel(\"true\")\n",
        "plt.show()"
      ],
      "metadata": {
        "colab": {
          "base_uri": "https://localhost:8080/",
          "height": 465
        },
        "id": "Hv_B2k0wgpeF",
        "outputId": "11862f26-826e-4a91-cf1d-4d27c859b222"
      },
      "execution_count": null,
      "outputs": [
        {
          "output_type": "display_data",
          "data": {
            "text/plain": [
              "<Figure size 500x500 with 2 Axes>"
            ],
            "image/png": "[encoded data removed]"
          },
          "metadata": {}
        }
      ]
    },
    {
      "cell_type": "markdown",
      "source": [
        "Confusion matrix for Decision Tree"
      ],
      "metadata": {
        "id": "eNGmQDChgTRO"
      }
    },
    {
      "cell_type": "code",
      "source": [
        "y_pred_nb = dtc.predict(x_test)\n",
        "y_true_nb = y_test\n",
        "cm = confusion_matrix(y_true_nb, y_pred_nb)\n",
        "f, ax = plt.subplots(figsize =(5,5))\n",
        "sns.heatmap(cm,annot = True,linewidths=0.5,cmap='icefire',linecolor=\"white\",fmt = \".0f\",ax=ax)\n",
        "plt.xlabel(\"pred\")\n",
        "plt.ylabel(\"true\")\n",
        "plt.show()"
      ],
      "metadata": {
        "colab": {
          "base_uri": "https://localhost:8080/",
          "height": 465
        },
        "id": "RroydLYwgqA-",
        "outputId": "8fb4dd68-8d76-4121-8345-3be3a410fcc3"
      },
      "execution_count": null,
      "outputs": [
        {
          "output_type": "display_data",
          "data": {
            "text/plain": [
              "<Figure size 500x500 with 2 Axes>"
            ],
            "image/png": "[encoded data removed]"
          },
          "metadata": {}
        }
      ]
    },
    {
      "cell_type": "markdown",
      "source": [
        "Confusion matrix for Logistic Regression"
      ],
      "metadata": {
        "id": "vekFsGXmgTu6"
      }
    },
    {
      "cell_type": "code",
      "source": [
        "y_pred_nb = lrc.predict(x_test)\n",
        "y_true_nb = y_test\n",
        "cm = confusion_matrix(y_true_nb, y_pred_nb)\n",
        "f, ax = plt.subplots(figsize =(5,5))\n",
        "sns.heatmap(cm,annot = True,linewidths=0.5,cmap='icefire',linecolor=\"white\",fmt = \".0f\",ax=ax)\n",
        "plt.xlabel(\"pred\")\n",
        "plt.ylabel(\"true\")\n",
        "plt.show()"
      ],
      "metadata": {
        "colab": {
          "base_uri": "https://localhost:8080/",
          "height": 465
        },
        "id": "WmFQPtQBgqeq",
        "outputId": "d4b4f61b-965b-4f1a-d28a-478a22e6ceb8"
      },
      "execution_count": null,
      "outputs": [
        {
          "output_type": "display_data",
          "data": {
            "text/plain": [
              "<Figure size 500x500 with 2 Axes>"
            ],
            "image/png": "[encoded data removed]"
          },
          "metadata": {}
        }
      ]
    },
    {
      "cell_type": "markdown",
      "source": [
        "Confusion matrix for Naive Bayes"
      ],
      "metadata": {
        "id": "QDg6oRy9gUS2"
      }
    },
    {
      "cell_type": "code",
      "source": [
        "y_pred_nb = mnb.predict(x_test)\n",
        "y_true_nb = y_test\n",
        "cm = confusion_matrix(y_true_nb, y_pred_nb)\n",
        "f, ax = plt.subplots(figsize =(5,5))\n",
        "sns.heatmap(cm,annot = True,linewidths=0.5,cmap='icefire',linecolor=\"white\",fmt = \".0f\",ax=ax)\n",
        "plt.xlabel(\"pred\")\n",
        "plt.ylabel(\"true\")\n",
        "plt.show()\n"
      ],
      "metadata": {
        "colab": {
          "base_uri": "https://localhost:8080/",
          "height": 465
        },
        "id": "_r0_lEj1gq7D",
        "outputId": "7037e7d1-611c-435a-f36b-71362b34ec8a"
      },
      "execution_count": null,
      "outputs": [
        {
          "output_type": "display_data",
          "data": {
            "text/plain": [
              "<Figure size 500x500 with 2 Axes>"
            ],
            "image/png": "[encoded data removed]"
          },
          "metadata": {}
        }
      ]
    },
    {
      "cell_type": "markdown",
      "source": [
        "Confusion matrix for Random Forrest"
      ],
      "metadata": {
        "id": "FMMn6O8jgVIf"
      }
    },
    {
      "cell_type": "code",
      "source": [
        "y_pred_nb = rfc.predict(x_test)\n",
        "y_true_nb = y_test\n",
        "cm = confusion_matrix(y_true_nb, y_pred_nb)\n",
        "f, ax = plt.subplots(figsize =(5,5))\n",
        "sns.heatmap(cm,annot = True,linewidths=0.5,cmap='icefire',linecolor=\"white\",fmt = \".0f\",ax=ax)\n",
        "plt.xlabel(\"pred\")\n",
        "plt.ylabel(\"true\")\n",
        "plt.show()"
      ],
      "metadata": {
        "colab": {
          "base_uri": "https://localhost:8080/",
          "height": 465
        },
        "id": "fyewuUMshCHt",
        "outputId": "7a8382d7-49bb-4c5b-aa41-ca14eee0f63e"
      },
      "execution_count": null,
      "outputs": [
        {
          "output_type": "display_data",
          "data": {
            "text/plain": [
              "<Figure size 500x500 with 2 Axes>"
            ],
            "image/png": "[encoded data removed]"
          },
          "metadata": {}
        }
      ]
    },
    {
      "cell_type": "markdown",
      "source": [
        "Summary of classifying word presence 100: The best performing classifier has been Naive Bayes again with the accuracy of 0.9553 and weighted F-measure of 0.9536 due to the reason that the presence of certain words is strongly linked to their respective categories, and thus the mutual independence assumption is stronger leading to better prediction results.\n",
        "\n",
        "The worst performing has been Support Vector Machines with accuracy of 0.9008 and weighted F-measure 0.9020 and KNN with weighted F-measure worse of respectively 0.8930."
      ],
      "metadata": {
        "id": "hCdb0um8sub1"
      }
    },
    {
      "cell_type": "markdown",
      "source": [
        "#Classify word presence 1000"
      ],
      "metadata": {
        "id": "7gBChVQmhOqm"
      }
    },
    {
      "cell_type": "code",
      "source": [
        "features = word_vectors_presence_1000\n",
        "x_train, x_test, y_train, y_test = train_test_split(features, target, test_size=0.15, random_state=42)"
      ],
      "metadata": {
        "id": "x9_LPjJfhVIa"
      },
      "execution_count": null,
      "outputs": []
    },
    {
      "cell_type": "code",
      "source": [
        "svc = SVC(kernel='sigmoid', gamma=1.0)\n",
        "knc = KNeighborsClassifier(n_neighbors=49)\n",
        "mnb = MultinomialNB(alpha=0.2)\n",
        "dtc = DecisionTreeClassifier(min_samples_split=7, random_state=42)\n",
        "lrc = LogisticRegression(solver='liblinear', penalty='l1')\n",
        "rfc = RandomForestClassifier(n_estimators=31, random_state=42)\n",
        "\n",
        "clfs = {'SVC' : svc,'KNC' : knc, 'MNB': mnb, 'DTC': dtc, 'LRC': lrc, 'RFC': rfc}\n",
        "\n",
        "pred_scores_word_vectors = []\n",
        "for k,v in clfs.items():\n",
        "    v.fit(x_train, y_train)\n",
        "    pred = v.predict(x_test)\n",
        "\n",
        "    a = accuracy_score(y_test, pred);\n",
        "    f1 = f1_score(y_true = y_test, y_pred = pred, average='weighted');\n",
        "    pred_scores_word_vectors.append((k, a, f1))\n",
        "\n",
        "pred_scores_word_vectors"
      ],
      "metadata": {
        "colab": {
          "base_uri": "https://localhost:8080/"
        },
        "id": "_OKEYcWChY5T",
        "outputId": "f63e9612-7168-4805-98a0-60421a5e6c8d"
      },
      "execution_count": null,
      "outputs": [
        {
          "output_type": "stream",
          "name": "stderr",
          "text": [
            "/usr/local/lib/python3.10/dist-packages/sklearn/utils/validation.py:1143: DataConversionWarning: A column-vector y was passed when a 1d array was expected. Please change the shape of y to (n_samples, ), for example using ravel().\n",
            "  y = column_or_1d(y, warn=True)\n",
            "/usr/local/lib/python3.10/dist-packages/sklearn/neighbors/_classification.py:215: DataConversionWarning: A column-vector y was passed when a 1d array was expected. Please change the shape of y to (n_samples,), for example using ravel().\n",
            "  return self._fit(X, y)\n",
            "/usr/local/lib/python3.10/dist-packages/sklearn/utils/validation.py:1143: DataConversionWarning: A column-vector y was passed when a 1d array was expected. Please change the shape of y to (n_samples, ), for example using ravel().\n",
            "  y = column_or_1d(y, warn=True)\n",
            "/usr/local/lib/python3.10/dist-packages/sklearn/utils/validation.py:1143: DataConversionWarning: A column-vector y was passed when a 1d array was expected. Please change the shape of y to (n_samples, ), for example using ravel().\n",
            "  y = column_or_1d(y, warn=True)\n",
            "<ipython-input-93-f2d87696d72b>:12: DataConversionWarning: A column-vector y was passed when a 1d array was expected. Please change the shape of y to (n_samples,), for example using ravel().\n",
            "  v.fit(x_train, y_train)\n"
          ]
        },
        {
          "output_type": "execute_result",
          "data": {
            "text/plain": [
              "[('SVC', 0.9129383313180169, 0.9142494748298859),\n",
              " ('KNC', 0.8694074969770254, 0.8086726912373625),\n",
              " ('MNB', 0.9794437726723095, 0.9792358291759428),\n",
              " ('DTC', 0.9794437726723095, 0.9790608256171377),\n",
              " ('LRC', 0.9782345828295043, 0.9777814528322238),\n",
              " ('RFC', 0.9818621523579202, 0.9812789897492186)]"
            ]
          },
          "metadata": {},
          "execution_count": 93
        }
      ]
    },
    {
      "cell_type": "markdown",
      "source": [
        "Confusion matrix for Support vector machines"
      ],
      "metadata": {
        "id": "zsDwDD42huY2"
      }
    },
    {
      "cell_type": "code",
      "source": [
        "y_pred_nb = svc.predict(x_test)\n",
        "y_true_nb = y_test\n",
        "cm = confusion_matrix(y_true_nb, y_pred_nb)\n",
        "f, ax = plt.subplots(figsize =(5,5))\n",
        "sns.heatmap(cm,annot = True,linewidths=0.5,cmap=\"Blues\",linecolor=\"white\",fmt = \".0f\",ax=ax)\n",
        "plt.xlabel(\"pred\")\n",
        "plt.ylabel(\"true\")\n",
        "plt.show()"
      ],
      "metadata": {
        "colab": {
          "base_uri": "https://localhost:8080/",
          "height": 465
        },
        "id": "FYDGg7RviBn3",
        "outputId": "3a1aafb6-0647-4b2b-a792-29b8673fa8ba"
      },
      "execution_count": null,
      "outputs": [
        {
          "output_type": "display_data",
          "data": {
            "text/plain": [
              "<Figure size 500x500 with 2 Axes>"
            ],
            "image/png": "[encoded data removed]"
          },
          "metadata": {}
        }
      ]
    },
    {
      "cell_type": "markdown",
      "source": [
        "Confusion matrix for KNN"
      ],
      "metadata": {
        "id": "UsSN-oCyhvCx"
      }
    },
    {
      "cell_type": "code",
      "source": [
        "y_pred_nb = knc.predict(x_test)\n",
        "y_true_nb = y_test\n",
        "cm = confusion_matrix(y_true_nb, y_pred_nb)\n",
        "f, ax = plt.subplots(figsize =(5,5))\n",
        "sns.heatmap(cm,annot = True,linewidths=0.5,cmap=\"Blues\",linecolor=\"white\",fmt = \".0f\",ax=ax)\n",
        "plt.xlabel(\"pred\")\n",
        "plt.ylabel(\"true\")\n",
        "plt.show()"
      ],
      "metadata": {
        "colab": {
          "base_uri": "https://localhost:8080/",
          "height": 465
        },
        "id": "w1pG7Cn2iCg5",
        "outputId": "e0cb229f-9ea5-49ca-8c8e-9b1b136d086e"
      },
      "execution_count": null,
      "outputs": [
        {
          "output_type": "display_data",
          "data": {
            "text/plain": [
              "<Figure size 500x500 with 2 Axes>"
            ],
            "image/png": "[encoded data removed]"
          },
          "metadata": {}
        }
      ]
    },
    {
      "cell_type": "markdown",
      "source": [
        "Confusion matrix for Decision Tree"
      ],
      "metadata": {
        "id": "MaYpBg-FhvX3"
      }
    },
    {
      "cell_type": "code",
      "source": [
        "y_pred_nb = dtc.predict(x_test)\n",
        "y_true_nb = y_test\n",
        "cm = confusion_matrix(y_true_nb, y_pred_nb)\n",
        "f, ax = plt.subplots(figsize =(5,5))\n",
        "sns.heatmap(cm,annot = True,linewidths=0.5,cmap=\"Blues\",linecolor=\"white\",fmt = \".0f\",ax=ax)\n",
        "plt.xlabel(\"pred\")\n",
        "plt.ylabel(\"true\")\n",
        "plt.show()"
      ],
      "metadata": {
        "colab": {
          "base_uri": "https://localhost:8080/",
          "height": 465
        },
        "id": "ZW9K1NaaiDGZ",
        "outputId": "b8042b3d-22ef-45c0-ab94-9dbeae967817"
      },
      "execution_count": null,
      "outputs": [
        {
          "output_type": "display_data",
          "data": {
            "text/plain": [
              "<Figure size 500x500 with 2 Axes>"
            ],
            "image/png": "[encoded data removed]"
          },
          "metadata": {}
        }
      ]
    },
    {
      "cell_type": "markdown",
      "source": [
        "Confusion matrix for Logistic Regression"
      ],
      "metadata": {
        "id": "3KlCp30ahvq4"
      }
    },
    {
      "cell_type": "code",
      "source": [
        "y_pred_nb = lrc.predict(x_test)\n",
        "y_true_nb = y_test\n",
        "cm = confusion_matrix(y_true_nb, y_pred_nb)\n",
        "f, ax = plt.subplots(figsize =(5,5))\n",
        "sns.heatmap(cm,annot = True,linewidths=0.5,cmap=\"Blues\",linecolor=\"white\",fmt = \".0f\",ax=ax)\n",
        "plt.xlabel(\"pred\")\n",
        "plt.ylabel(\"true\")\n",
        "plt.show()"
      ],
      "metadata": {
        "colab": {
          "base_uri": "https://localhost:8080/",
          "height": 465
        },
        "id": "x80HMNYyiD4Z",
        "outputId": "0581c2bb-7a5b-4896-ab3f-fd8e1190388f"
      },
      "execution_count": null,
      "outputs": [
        {
          "output_type": "display_data",
          "data": {
            "text/plain": [
              "<Figure size 500x500 with 2 Axes>"
            ],
            "image/png": "[encoded data removed]"
          },
          "metadata": {}
        }
      ]
    },
    {
      "cell_type": "markdown",
      "source": [
        "Confusion matrix for Naive Bayes"
      ],
      "metadata": {
        "id": "mdCnSApyhwDG"
      }
    },
    {
      "cell_type": "code",
      "source": [
        "y_pred_nb = mnb.predict(x_test)\n",
        "y_true_nb = y_test\n",
        "cm = confusion_matrix(y_true_nb, y_pred_nb)\n",
        "f, ax = plt.subplots(figsize =(5,5))\n",
        "sns.heatmap(cm,annot = True,linewidths=0.5,cmap=\"Blues\",linecolor=\"white\",fmt = \".0f\",ax=ax)\n",
        "plt.xlabel(\"pred\")\n",
        "plt.ylabel(\"true\")\n",
        "plt.show()"
      ],
      "metadata": {
        "colab": {
          "base_uri": "https://localhost:8080/",
          "height": 465
        },
        "id": "WYmCrsS3iEgg",
        "outputId": "e063a560-791c-45bb-8d4b-255478b92983"
      },
      "execution_count": null,
      "outputs": [
        {
          "output_type": "display_data",
          "data": {
            "text/plain": [
              "<Figure size 500x500 with 2 Axes>"
            ],
            "image/png": "[encoded data removed]"
          },
          "metadata": {}
        }
      ]
    },
    {
      "cell_type": "markdown",
      "source": [
        "Confusion matrix for Random Forrest"
      ],
      "metadata": {
        "id": "zL3Zxi9yhwle"
      }
    },
    {
      "cell_type": "code",
      "source": [
        "y_pred_nb = rfc.predict(x_test)\n",
        "y_true_nb = y_test\n",
        "cm = confusion_matrix(y_true_nb, y_pred_nb)\n",
        "f, ax = plt.subplots(figsize =(5,5))\n",
        "sns.heatmap(cm,annot = True,linewidths=0.5,cmap=\"Blues\",linecolor=\"white\",fmt = \".0f\",ax=ax)\n",
        "plt.xlabel(\"pred\")\n",
        "plt.ylabel(\"true\")\n",
        "plt.show()"
      ],
      "metadata": {
        "colab": {
          "base_uri": "https://localhost:8080/",
          "height": 465
        },
        "id": "iyoejKzAiFQa",
        "outputId": "6a57bdbb-bcd2-4c10-c39e-ac658ed09ce0"
      },
      "execution_count": null,
      "outputs": [
        {
          "output_type": "display_data",
          "data": {
            "text/plain": [
              "<Figure size 500x500 with 2 Axes>"
            ],
            "image/png": "[encoded data removed]"
          },
          "metadata": {}
        }
      ]
    },
    {
      "cell_type": "markdown",
      "source": [
        "Summary abuot the **word presence 1000**: The with increasing number of words the best performing classifiers are Naive Bayes and Random Decision Tree with Accuracy of 0.9794 and weighted F-measure of 0.9792 and 0.9790 respectively showing that they deliver practically the same results. According to confusion matrix, however we can see, that the class 0 and 1 was recognised correctly more times by Naive Bays.\n",
        "\n",
        "The worst performance has been by KNN with accuracy of 0.8694 and weighted F-measure of 0.8087. Logistic Regression has managed to produce better results with the accuracy of 0.9782 and weighted F-measure of 0.9778."
      ],
      "metadata": {
        "id": "foqNoKmPu2iC"
      }
    },
    {
      "cell_type": "markdown",
      "source": [
        "# Conclusions"
      ],
      "metadata": {
        "id": "XnnaAebX0c3Z"
      }
    },
    {
      "cell_type": "markdown",
      "source": [
        "After adjusting different parameters overall i can distuingish **Naive Bayes** with the highet **F-measure of 0.9792** for **both word frequency 1000** and **word presence 1000**. However, Random Forest seems to have very close results with instances where F-measure differes as little as 0.0002.\n",
        "\n",
        "Naive Bayes is known to work best with text-based datasets even if the dataset is relatively small. The presence of certain words is strongly linked to their respective categories, and thus the mutual independence assumption is stronger. The positive aspect of this independance is that the words in the text messages are separated and treated as 1d distributions, there is no overfitting. In the case of Random Forest, there is a strong tendency of overfitting, including possibly unneeded words."
      ],
      "metadata": {
        "id": "9HTRLnLK0h8-"
      }
    }
  ]
}